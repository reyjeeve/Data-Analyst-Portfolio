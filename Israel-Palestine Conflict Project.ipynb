{
 "cells": [
  {
   "cell_type": "markdown",
   "metadata": {},
   "source": [
    "# Fatalities of the Israel-Palestine Conflict from 2000-2023\n",
    "\n",
    "This data is found on https://www.kaggle.com/datasets/asaniczka/fatalities-in-the-israeli-palestinian-conflict. This explores the victims of the said conflict; their ages, gender, participation to the violence, the areas where they died, etc. This attempts to guide possible policy making that can hopefully quell and pacify the violence."
   ]
  },
  {
   "cell_type": "markdown",
   "metadata": {},
   "source": [
    "Let's begin by downloading the data, and listing the files within the dataset."
   ]
  },
  {
   "cell_type": "code",
   "execution_count": 2,
   "metadata": {},
   "outputs": [],
   "source": [
    "!pip install pandas --upgrade --quiet"
   ]
  },
  {
   "cell_type": "code",
   "execution_count": 3,
   "metadata": {},
   "outputs": [],
   "source": [
    "import pandas as pd"
   ]
  },
  {
   "cell_type": "code",
   "execution_count": 4,
   "metadata": {},
   "outputs": [],
   "source": [
    "conflict_pd=pd.read_csv('fatalities_isr_pse_conflict_2000_to_2023.csv')"
   ]
  },
  {
   "cell_type": "code",
   "execution_count": 5,
   "metadata": {
    "scrolled": true
   },
   "outputs": [
    {
     "data": {
      "text/html": [
       "<div>\n",
       "<style scoped>\n",
       "    .dataframe tbody tr th:only-of-type {\n",
       "        vertical-align: middle;\n",
       "    }\n",
       "\n",
       "    .dataframe tbody tr th {\n",
       "        vertical-align: top;\n",
       "    }\n",
       "\n",
       "    .dataframe thead th {\n",
       "        text-align: right;\n",
       "    }\n",
       "</style>\n",
       "<table border=\"1\" class=\"dataframe\">\n",
       "  <thead>\n",
       "    <tr style=\"text-align: right;\">\n",
       "      <th></th>\n",
       "      <th>name</th>\n",
       "      <th>date_of_event</th>\n",
       "      <th>age</th>\n",
       "      <th>citizenship</th>\n",
       "      <th>event_location</th>\n",
       "      <th>event_location_district</th>\n",
       "      <th>event_location_region</th>\n",
       "      <th>date_of_death</th>\n",
       "      <th>gender</th>\n",
       "      <th>took_part_in_the_hostilities</th>\n",
       "      <th>place_of_residence</th>\n",
       "      <th>place_of_residence_district</th>\n",
       "      <th>type_of_injury</th>\n",
       "      <th>ammunition</th>\n",
       "      <th>killed_by</th>\n",
       "      <th>notes</th>\n",
       "    </tr>\n",
       "  </thead>\n",
       "  <tbody>\n",
       "    <tr>\n",
       "      <th>0</th>\n",
       "      <td>'Abd a-Rahman Suleiman Muhammad Abu Daghash</td>\n",
       "      <td>2023-09-24</td>\n",
       "      <td>32.0</td>\n",
       "      <td>Palestinian</td>\n",
       "      <td>Nur Shams R.C.</td>\n",
       "      <td>Tulkarm</td>\n",
       "      <td>West Bank</td>\n",
       "      <td>2023-09-24</td>\n",
       "      <td>M</td>\n",
       "      <td>NaN</td>\n",
       "      <td>Nur Shams R.C.</td>\n",
       "      <td>Tulkarm</td>\n",
       "      <td>gunfire</td>\n",
       "      <td>live ammunition</td>\n",
       "      <td>Israeli security forces</td>\n",
       "      <td>Fatally shot by Israeli forces while standing ...</td>\n",
       "    </tr>\n",
       "    <tr>\n",
       "      <th>1</th>\n",
       "      <td>Usayed Farhan Muhammad 'Ali Abu 'Ali</td>\n",
       "      <td>2023-09-24</td>\n",
       "      <td>21.0</td>\n",
       "      <td>Palestinian</td>\n",
       "      <td>Nur Shams R.C.</td>\n",
       "      <td>Tulkarm</td>\n",
       "      <td>West Bank</td>\n",
       "      <td>2023-09-24</td>\n",
       "      <td>M</td>\n",
       "      <td>NaN</td>\n",
       "      <td>Nur Shams R.C.</td>\n",
       "      <td>Tulkarm</td>\n",
       "      <td>gunfire</td>\n",
       "      <td>live ammunition</td>\n",
       "      <td>Israeli security forces</td>\n",
       "      <td>Fatally shot by Israeli forces while trying to...</td>\n",
       "    </tr>\n",
       "    <tr>\n",
       "      <th>2</th>\n",
       "      <td>'Abdallah 'Imad Sa'ed Abu Hassan</td>\n",
       "      <td>2023-09-22</td>\n",
       "      <td>16.0</td>\n",
       "      <td>Palestinian</td>\n",
       "      <td>Kfar Dan</td>\n",
       "      <td>Jenin</td>\n",
       "      <td>West Bank</td>\n",
       "      <td>2023-09-22</td>\n",
       "      <td>M</td>\n",
       "      <td>NaN</td>\n",
       "      <td>al-Yamun</td>\n",
       "      <td>Jenin</td>\n",
       "      <td>gunfire</td>\n",
       "      <td>live ammunition</td>\n",
       "      <td>Israeli security forces</td>\n",
       "      <td>Fatally shot by soldiers while firing at them ...</td>\n",
       "    </tr>\n",
       "    <tr>\n",
       "      <th>3</th>\n",
       "      <td>Durgham Muhammad Yihya al-Akhras</td>\n",
       "      <td>2023-09-20</td>\n",
       "      <td>19.0</td>\n",
       "      <td>Palestinian</td>\n",
       "      <td>'Aqbat Jaber R.C.</td>\n",
       "      <td>Jericho</td>\n",
       "      <td>West Bank</td>\n",
       "      <td>2023-09-20</td>\n",
       "      <td>M</td>\n",
       "      <td>NaN</td>\n",
       "      <td>'Aqbat Jaber R.C.</td>\n",
       "      <td>Jericho</td>\n",
       "      <td>gunfire</td>\n",
       "      <td>live ammunition</td>\n",
       "      <td>Israeli security forces</td>\n",
       "      <td>Shot in the head by Israeli forces while throw...</td>\n",
       "    </tr>\n",
       "    <tr>\n",
       "      <th>4</th>\n",
       "      <td>Raafat 'Omar Ahmad Khamaisah</td>\n",
       "      <td>2023-09-19</td>\n",
       "      <td>15.0</td>\n",
       "      <td>Palestinian</td>\n",
       "      <td>Jenin R.C.</td>\n",
       "      <td>Jenin</td>\n",
       "      <td>West Bank</td>\n",
       "      <td>2023-09-19</td>\n",
       "      <td>M</td>\n",
       "      <td>NaN</td>\n",
       "      <td>Jenin</td>\n",
       "      <td>Jenin</td>\n",
       "      <td>gunfire</td>\n",
       "      <td>live ammunition</td>\n",
       "      <td>Israeli security forces</td>\n",
       "      <td>Wounded by soldiers’ gunfire after running awa...</td>\n",
       "    </tr>\n",
       "    <tr>\n",
       "      <th>...</th>\n",
       "      <td>...</td>\n",
       "      <td>...</td>\n",
       "      <td>...</td>\n",
       "      <td>...</td>\n",
       "      <td>...</td>\n",
       "      <td>...</td>\n",
       "      <td>...</td>\n",
       "      <td>...</td>\n",
       "      <td>...</td>\n",
       "      <td>...</td>\n",
       "      <td>...</td>\n",
       "      <td>...</td>\n",
       "      <td>...</td>\n",
       "      <td>...</td>\n",
       "      <td>...</td>\n",
       "      <td>...</td>\n",
       "    </tr>\n",
       "    <tr>\n",
       "      <th>11119</th>\n",
       "      <td>Binyamin Herling</td>\n",
       "      <td>2000-10-19</td>\n",
       "      <td>64.0</td>\n",
       "      <td>Israeli</td>\n",
       "      <td>Nablus</td>\n",
       "      <td>Nablus</td>\n",
       "      <td>West Bank</td>\n",
       "      <td>2000-10-19</td>\n",
       "      <td>M</td>\n",
       "      <td>Israelis</td>\n",
       "      <td>Kedumim</td>\n",
       "      <td>Tulkarm</td>\n",
       "      <td>gunfire</td>\n",
       "      <td>live ammunition</td>\n",
       "      <td>Palestinian civilians</td>\n",
       "      <td>Killed while hiking on Mt. Eival.</td>\n",
       "    </tr>\n",
       "    <tr>\n",
       "      <th>11120</th>\n",
       "      <td>Farid Musa 'Issa a-Nesasreh</td>\n",
       "      <td>2000-10-17</td>\n",
       "      <td>28.0</td>\n",
       "      <td>Palestinian</td>\n",
       "      <td>Beit Furik</td>\n",
       "      <td>Nablus</td>\n",
       "      <td>West Bank</td>\n",
       "      <td>2000-10-17</td>\n",
       "      <td>M</td>\n",
       "      <td>Unknown</td>\n",
       "      <td>Beit Furik</td>\n",
       "      <td>Nablus</td>\n",
       "      <td>gunfire</td>\n",
       "      <td>NaN</td>\n",
       "      <td>Israeli civilians</td>\n",
       "      <td>Killed by a settler from Itamar while harvesti...</td>\n",
       "    </tr>\n",
       "    <tr>\n",
       "      <th>11121</th>\n",
       "      <td>Hillel Lieberman</td>\n",
       "      <td>2000-10-07</td>\n",
       "      <td>36.0</td>\n",
       "      <td>Israeli</td>\n",
       "      <td>Nablus</td>\n",
       "      <td>Nablus</td>\n",
       "      <td>West Bank</td>\n",
       "      <td>2000-10-07</td>\n",
       "      <td>M</td>\n",
       "      <td>Israelis</td>\n",
       "      <td>Elon Moreh</td>\n",
       "      <td>Nablus</td>\n",
       "      <td>gunfire</td>\n",
       "      <td>live ammunition</td>\n",
       "      <td>Palestinian civilians</td>\n",
       "      <td>His body was found a day after he disappeared.</td>\n",
       "    </tr>\n",
       "    <tr>\n",
       "      <th>11122</th>\n",
       "      <td>Fahed Mustafa 'Odeh Baker</td>\n",
       "      <td>2000-10-07</td>\n",
       "      <td>21.0</td>\n",
       "      <td>Palestinian</td>\n",
       "      <td>Bidya</td>\n",
       "      <td>Salfit</td>\n",
       "      <td>West Bank</td>\n",
       "      <td>2000-10-07</td>\n",
       "      <td>M</td>\n",
       "      <td>No</td>\n",
       "      <td>Bidya</td>\n",
       "      <td>Salfit</td>\n",
       "      <td>gunfire</td>\n",
       "      <td>NaN</td>\n",
       "      <td>Israeli civilians</td>\n",
       "      <td>Killed by settlers who rioted in Biddya village.</td>\n",
       "    </tr>\n",
       "    <tr>\n",
       "      <th>11123</th>\n",
       "      <td>Wichlav Zalsevsky</td>\n",
       "      <td>2000-10-02</td>\n",
       "      <td>24.0</td>\n",
       "      <td>Israeli</td>\n",
       "      <td>Masha</td>\n",
       "      <td>Salfit</td>\n",
       "      <td>West Bank</td>\n",
       "      <td>2000-10-02</td>\n",
       "      <td>M</td>\n",
       "      <td>Israelis</td>\n",
       "      <td>Ashdod</td>\n",
       "      <td>Israel</td>\n",
       "      <td>gunfire</td>\n",
       "      <td>live ammunition</td>\n",
       "      <td>Palestinian civilians</td>\n",
       "      <td>NaN</td>\n",
       "    </tr>\n",
       "  </tbody>\n",
       "</table>\n",
       "<p>11124 rows × 16 columns</p>\n",
       "</div>"
      ],
      "text/plain": [
       "                                              name date_of_event   age  \\\n",
       "0      'Abd a-Rahman Suleiman Muhammad Abu Daghash    2023-09-24  32.0   \n",
       "1             Usayed Farhan Muhammad 'Ali Abu 'Ali    2023-09-24  21.0   \n",
       "2                 'Abdallah 'Imad Sa'ed Abu Hassan    2023-09-22  16.0   \n",
       "3                 Durgham Muhammad Yihya al-Akhras    2023-09-20  19.0   \n",
       "4                     Raafat 'Omar Ahmad Khamaisah    2023-09-19  15.0   \n",
       "...                                            ...           ...   ...   \n",
       "11119                             Binyamin Herling    2000-10-19  64.0   \n",
       "11120                  Farid Musa 'Issa a-Nesasreh    2000-10-17  28.0   \n",
       "11121                             Hillel Lieberman    2000-10-07  36.0   \n",
       "11122                    Fahed Mustafa 'Odeh Baker    2000-10-07  21.0   \n",
       "11123                            Wichlav Zalsevsky    2000-10-02  24.0   \n",
       "\n",
       "       citizenship     event_location event_location_district  \\\n",
       "0      Palestinian     Nur Shams R.C.                 Tulkarm   \n",
       "1      Palestinian     Nur Shams R.C.                 Tulkarm   \n",
       "2      Palestinian           Kfar Dan                   Jenin   \n",
       "3      Palestinian  'Aqbat Jaber R.C.                 Jericho   \n",
       "4      Palestinian         Jenin R.C.                   Jenin   \n",
       "...            ...                ...                     ...   \n",
       "11119      Israeli             Nablus                  Nablus   \n",
       "11120  Palestinian         Beit Furik                  Nablus   \n",
       "11121      Israeli             Nablus                  Nablus   \n",
       "11122  Palestinian              Bidya                  Salfit   \n",
       "11123      Israeli              Masha                  Salfit   \n",
       "\n",
       "      event_location_region date_of_death gender took_part_in_the_hostilities  \\\n",
       "0                 West Bank    2023-09-24      M                          NaN   \n",
       "1                 West Bank    2023-09-24      M                          NaN   \n",
       "2                 West Bank    2023-09-22      M                          NaN   \n",
       "3                 West Bank    2023-09-20      M                          NaN   \n",
       "4                 West Bank    2023-09-19      M                          NaN   \n",
       "...                     ...           ...    ...                          ...   \n",
       "11119             West Bank    2000-10-19      M                     Israelis   \n",
       "11120             West Bank    2000-10-17      M                      Unknown   \n",
       "11121             West Bank    2000-10-07      M                     Israelis   \n",
       "11122             West Bank    2000-10-07      M                           No   \n",
       "11123             West Bank    2000-10-02      M                     Israelis   \n",
       "\n",
       "      place_of_residence place_of_residence_district type_of_injury  \\\n",
       "0         Nur Shams R.C.                     Tulkarm        gunfire   \n",
       "1         Nur Shams R.C.                     Tulkarm        gunfire   \n",
       "2               al-Yamun                       Jenin        gunfire   \n",
       "3      'Aqbat Jaber R.C.                     Jericho        gunfire   \n",
       "4                  Jenin                       Jenin        gunfire   \n",
       "...                  ...                         ...            ...   \n",
       "11119            Kedumim                     Tulkarm        gunfire   \n",
       "11120         Beit Furik                      Nablus        gunfire   \n",
       "11121         Elon Moreh                      Nablus        gunfire   \n",
       "11122              Bidya                      Salfit        gunfire   \n",
       "11123             Ashdod                      Israel        gunfire   \n",
       "\n",
       "            ammunition                killed_by  \\\n",
       "0      live ammunition  Israeli security forces   \n",
       "1      live ammunition  Israeli security forces   \n",
       "2      live ammunition  Israeli security forces   \n",
       "3      live ammunition  Israeli security forces   \n",
       "4      live ammunition  Israeli security forces   \n",
       "...                ...                      ...   \n",
       "11119  live ammunition    Palestinian civilians   \n",
       "11120              NaN        Israeli civilians   \n",
       "11121  live ammunition    Palestinian civilians   \n",
       "11122              NaN        Israeli civilians   \n",
       "11123  live ammunition    Palestinian civilians   \n",
       "\n",
       "                                                   notes  \n",
       "0      Fatally shot by Israeli forces while standing ...  \n",
       "1      Fatally shot by Israeli forces while trying to...  \n",
       "2      Fatally shot by soldiers while firing at them ...  \n",
       "3      Shot in the head by Israeli forces while throw...  \n",
       "4      Wounded by soldiers’ gunfire after running awa...  \n",
       "...                                                  ...  \n",
       "11119                  Killed while hiking on Mt. Eival.  \n",
       "11120  Killed by a settler from Itamar while harvesti...  \n",
       "11121     His body was found a day after he disappeared.  \n",
       "11122   Killed by settlers who rioted in Biddya village.  \n",
       "11123                                                NaN  \n",
       "\n",
       "[11124 rows x 16 columns]"
      ]
     },
     "execution_count": 5,
     "metadata": {},
     "output_type": "execute_result"
    }
   ],
   "source": [
    "conflict_pd"
   ]
  },
  {
   "cell_type": "markdown",
   "metadata": {},
   "source": [
    "Explore the data."
   ]
  },
  {
   "cell_type": "code",
   "execution_count": 6,
   "metadata": {},
   "outputs": [
    {
     "name": "stdout",
     "output_type": "stream",
     "text": [
      "<class 'pandas.core.frame.DataFrame'>\n",
      "RangeIndex: 11124 entries, 0 to 11123\n",
      "Data columns (total 16 columns):\n",
      " #   Column                        Non-Null Count  Dtype  \n",
      "---  ------                        --------------  -----  \n",
      " 0   name                          11124 non-null  object \n",
      " 1   date_of_event                 11124 non-null  object \n",
      " 2   age                           10995 non-null  float64\n",
      " 3   citizenship                   11124 non-null  object \n",
      " 4   event_location                11124 non-null  object \n",
      " 5   event_location_district       11124 non-null  object \n",
      " 6   event_location_region         11124 non-null  object \n",
      " 7   date_of_death                 11124 non-null  object \n",
      " 8   gender                        11104 non-null  object \n",
      " 9   took_part_in_the_hostilities  9694 non-null   object \n",
      " 10  place_of_residence            11056 non-null  object \n",
      " 11  place_of_residence_district   11056 non-null  object \n",
      " 12  type_of_injury                10833 non-null  object \n",
      " 13  ammunition                    5871 non-null   object \n",
      " 14  killed_by                     11124 non-null  object \n",
      " 15  notes                         10844 non-null  object \n",
      "dtypes: float64(1), object(15)\n",
      "memory usage: 1.4+ MB\n"
     ]
    }
   ],
   "source": [
    "conflict_pd.info()"
   ]
  },
  {
   "cell_type": "code",
   "execution_count": 7,
   "metadata": {},
   "outputs": [
    {
     "data": {
      "text/html": [
       "<div>\n",
       "<style scoped>\n",
       "    .dataframe tbody tr th:only-of-type {\n",
       "        vertical-align: middle;\n",
       "    }\n",
       "\n",
       "    .dataframe tbody tr th {\n",
       "        vertical-align: top;\n",
       "    }\n",
       "\n",
       "    .dataframe thead th {\n",
       "        text-align: right;\n",
       "    }\n",
       "</style>\n",
       "<table border=\"1\" class=\"dataframe\">\n",
       "  <thead>\n",
       "    <tr style=\"text-align: right;\">\n",
       "      <th></th>\n",
       "      <th>name</th>\n",
       "      <th>date_of_event</th>\n",
       "      <th>age</th>\n",
       "      <th>citizenship</th>\n",
       "      <th>event_location</th>\n",
       "      <th>event_location_district</th>\n",
       "      <th>event_location_region</th>\n",
       "      <th>date_of_death</th>\n",
       "      <th>gender</th>\n",
       "      <th>took_part_in_the_hostilities</th>\n",
       "      <th>place_of_residence</th>\n",
       "      <th>place_of_residence_district</th>\n",
       "      <th>type_of_injury</th>\n",
       "      <th>ammunition</th>\n",
       "      <th>killed_by</th>\n",
       "      <th>notes</th>\n",
       "    </tr>\n",
       "  </thead>\n",
       "  <tbody>\n",
       "    <tr>\n",
       "      <th>0</th>\n",
       "      <td>'Abd a-Rahman Suleiman Muhammad Abu Daghash</td>\n",
       "      <td>2023-09-24</td>\n",
       "      <td>32.0</td>\n",
       "      <td>Palestinian</td>\n",
       "      <td>Nur Shams R.C.</td>\n",
       "      <td>Tulkarm</td>\n",
       "      <td>West Bank</td>\n",
       "      <td>2023-09-24</td>\n",
       "      <td>M</td>\n",
       "      <td>NaN</td>\n",
       "      <td>Nur Shams R.C.</td>\n",
       "      <td>Tulkarm</td>\n",
       "      <td>gunfire</td>\n",
       "      <td>live ammunition</td>\n",
       "      <td>Israeli security forces</td>\n",
       "      <td>Fatally shot by Israeli forces while standing ...</td>\n",
       "    </tr>\n",
       "    <tr>\n",
       "      <th>1</th>\n",
       "      <td>Usayed Farhan Muhammad 'Ali Abu 'Ali</td>\n",
       "      <td>2023-09-24</td>\n",
       "      <td>21.0</td>\n",
       "      <td>Palestinian</td>\n",
       "      <td>Nur Shams R.C.</td>\n",
       "      <td>Tulkarm</td>\n",
       "      <td>West Bank</td>\n",
       "      <td>2023-09-24</td>\n",
       "      <td>M</td>\n",
       "      <td>NaN</td>\n",
       "      <td>Nur Shams R.C.</td>\n",
       "      <td>Tulkarm</td>\n",
       "      <td>gunfire</td>\n",
       "      <td>live ammunition</td>\n",
       "      <td>Israeli security forces</td>\n",
       "      <td>Fatally shot by Israeli forces while trying to...</td>\n",
       "    </tr>\n",
       "    <tr>\n",
       "      <th>2</th>\n",
       "      <td>'Abdallah 'Imad Sa'ed Abu Hassan</td>\n",
       "      <td>2023-09-22</td>\n",
       "      <td>16.0</td>\n",
       "      <td>Palestinian</td>\n",
       "      <td>Kfar Dan</td>\n",
       "      <td>Jenin</td>\n",
       "      <td>West Bank</td>\n",
       "      <td>2023-09-22</td>\n",
       "      <td>M</td>\n",
       "      <td>NaN</td>\n",
       "      <td>al-Yamun</td>\n",
       "      <td>Jenin</td>\n",
       "      <td>gunfire</td>\n",
       "      <td>live ammunition</td>\n",
       "      <td>Israeli security forces</td>\n",
       "      <td>Fatally shot by soldiers while firing at them ...</td>\n",
       "    </tr>\n",
       "    <tr>\n",
       "      <th>3</th>\n",
       "      <td>Durgham Muhammad Yihya al-Akhras</td>\n",
       "      <td>2023-09-20</td>\n",
       "      <td>19.0</td>\n",
       "      <td>Palestinian</td>\n",
       "      <td>'Aqbat Jaber R.C.</td>\n",
       "      <td>Jericho</td>\n",
       "      <td>West Bank</td>\n",
       "      <td>2023-09-20</td>\n",
       "      <td>M</td>\n",
       "      <td>NaN</td>\n",
       "      <td>'Aqbat Jaber R.C.</td>\n",
       "      <td>Jericho</td>\n",
       "      <td>gunfire</td>\n",
       "      <td>live ammunition</td>\n",
       "      <td>Israeli security forces</td>\n",
       "      <td>Shot in the head by Israeli forces while throw...</td>\n",
       "    </tr>\n",
       "    <tr>\n",
       "      <th>4</th>\n",
       "      <td>Raafat 'Omar Ahmad Khamaisah</td>\n",
       "      <td>2023-09-19</td>\n",
       "      <td>15.0</td>\n",
       "      <td>Palestinian</td>\n",
       "      <td>Jenin R.C.</td>\n",
       "      <td>Jenin</td>\n",
       "      <td>West Bank</td>\n",
       "      <td>2023-09-19</td>\n",
       "      <td>M</td>\n",
       "      <td>NaN</td>\n",
       "      <td>Jenin</td>\n",
       "      <td>Jenin</td>\n",
       "      <td>gunfire</td>\n",
       "      <td>live ammunition</td>\n",
       "      <td>Israeli security forces</td>\n",
       "      <td>Wounded by soldiers’ gunfire after running awa...</td>\n",
       "    </tr>\n",
       "    <tr>\n",
       "      <th>5</th>\n",
       "      <td>'Ata Yasser 'Ata Musa</td>\n",
       "      <td>2023-09-19</td>\n",
       "      <td>29.0</td>\n",
       "      <td>Palestinian</td>\n",
       "      <td>Jenin R.C.</td>\n",
       "      <td>Jenin</td>\n",
       "      <td>West Bank</td>\n",
       "      <td>2023-09-20</td>\n",
       "      <td>M</td>\n",
       "      <td>NaN</td>\n",
       "      <td>Jenin</td>\n",
       "      <td>Jenin</td>\n",
       "      <td>gunfire</td>\n",
       "      <td>missile</td>\n",
       "      <td>Israeli security forces</td>\n",
       "      <td>Wounded by shrapnel from a missile fired by Is...</td>\n",
       "    </tr>\n",
       "    <tr>\n",
       "      <th>6</th>\n",
       "      <td>Yusef Salem Yusef Radwan</td>\n",
       "      <td>2023-09-19</td>\n",
       "      <td>24.0</td>\n",
       "      <td>Palestinian</td>\n",
       "      <td>Gaza City</td>\n",
       "      <td>Gaza</td>\n",
       "      <td>Gaza Strip</td>\n",
       "      <td>2023-09-19</td>\n",
       "      <td>M</td>\n",
       "      <td>No</td>\n",
       "      <td>Khan Yunis</td>\n",
       "      <td>Khan Yunis</td>\n",
       "      <td>gunfire</td>\n",
       "      <td>live ammunition</td>\n",
       "      <td>Israeli security forces</td>\n",
       "      <td>Fatally shot by soldiers while participating i...</td>\n",
       "    </tr>\n",
       "    <tr>\n",
       "      <th>7</th>\n",
       "      <td>Mahmoud Khaled S'ud 'Ar'arawi</td>\n",
       "      <td>2023-09-19</td>\n",
       "      <td>25.0</td>\n",
       "      <td>Palestinian</td>\n",
       "      <td>Jenin R.C.</td>\n",
       "      <td>Jenin</td>\n",
       "      <td>West Bank</td>\n",
       "      <td>2023-09-19</td>\n",
       "      <td>M</td>\n",
       "      <td>NaN</td>\n",
       "      <td>Jenin R.C.</td>\n",
       "      <td>Jenin</td>\n",
       "      <td>gunfire</td>\n",
       "      <td>missile</td>\n",
       "      <td>Israeli security forces</td>\n",
       "      <td>Wounded by shrapnel from a missile fired by Is...</td>\n",
       "    </tr>\n",
       "    <tr>\n",
       "      <th>8</th>\n",
       "      <td>Mahmoud 'Ali Nafe'a a-S'adi</td>\n",
       "      <td>2023-09-19</td>\n",
       "      <td>23.0</td>\n",
       "      <td>Palestinian</td>\n",
       "      <td>Jenin R.C.</td>\n",
       "      <td>Jenin</td>\n",
       "      <td>West Bank</td>\n",
       "      <td>2023-09-19</td>\n",
       "      <td>M</td>\n",
       "      <td>NaN</td>\n",
       "      <td>Jenin R.C.</td>\n",
       "      <td>Jenin</td>\n",
       "      <td>gunfire</td>\n",
       "      <td>missile</td>\n",
       "      <td>Israeli security forces</td>\n",
       "      <td>Wounded by shrapnel from a missile fired by Is...</td>\n",
       "    </tr>\n",
       "    <tr>\n",
       "      <th>9</th>\n",
       "      <td>Milad Munzer Wajih a-Ra'i</td>\n",
       "      <td>2023-09-09</td>\n",
       "      <td>15.0</td>\n",
       "      <td>Palestinian</td>\n",
       "      <td>al-'Arrub R.C.</td>\n",
       "      <td>Hebron</td>\n",
       "      <td>West Bank</td>\n",
       "      <td>2023-09-09</td>\n",
       "      <td>M</td>\n",
       "      <td>NaN</td>\n",
       "      <td>al-'Arrub Camp</td>\n",
       "      <td>Hebron</td>\n",
       "      <td>gunfire</td>\n",
       "      <td>live ammunition</td>\n",
       "      <td>Israeli security forces</td>\n",
       "      <td>Fatally shot by a soldier after throwing two M...</td>\n",
       "    </tr>\n",
       "  </tbody>\n",
       "</table>\n",
       "</div>"
      ],
      "text/plain": [
       "                                          name date_of_event   age  \\\n",
       "0  'Abd a-Rahman Suleiman Muhammad Abu Daghash    2023-09-24  32.0   \n",
       "1         Usayed Farhan Muhammad 'Ali Abu 'Ali    2023-09-24  21.0   \n",
       "2             'Abdallah 'Imad Sa'ed Abu Hassan    2023-09-22  16.0   \n",
       "3             Durgham Muhammad Yihya al-Akhras    2023-09-20  19.0   \n",
       "4                 Raafat 'Omar Ahmad Khamaisah    2023-09-19  15.0   \n",
       "5                        'Ata Yasser 'Ata Musa    2023-09-19  29.0   \n",
       "6                     Yusef Salem Yusef Radwan    2023-09-19  24.0   \n",
       "7                Mahmoud Khaled S'ud 'Ar'arawi    2023-09-19  25.0   \n",
       "8                  Mahmoud 'Ali Nafe'a a-S'adi    2023-09-19  23.0   \n",
       "9                    Milad Munzer Wajih a-Ra'i    2023-09-09  15.0   \n",
       "\n",
       "   citizenship     event_location event_location_district  \\\n",
       "0  Palestinian     Nur Shams R.C.                 Tulkarm   \n",
       "1  Palestinian     Nur Shams R.C.                 Tulkarm   \n",
       "2  Palestinian           Kfar Dan                   Jenin   \n",
       "3  Palestinian  'Aqbat Jaber R.C.                 Jericho   \n",
       "4  Palestinian         Jenin R.C.                   Jenin   \n",
       "5  Palestinian         Jenin R.C.                   Jenin   \n",
       "6  Palestinian          Gaza City                    Gaza   \n",
       "7  Palestinian         Jenin R.C.                   Jenin   \n",
       "8  Palestinian         Jenin R.C.                   Jenin   \n",
       "9  Palestinian     al-'Arrub R.C.                  Hebron   \n",
       "\n",
       "  event_location_region date_of_death gender took_part_in_the_hostilities  \\\n",
       "0             West Bank    2023-09-24      M                          NaN   \n",
       "1             West Bank    2023-09-24      M                          NaN   \n",
       "2             West Bank    2023-09-22      M                          NaN   \n",
       "3             West Bank    2023-09-20      M                          NaN   \n",
       "4             West Bank    2023-09-19      M                          NaN   \n",
       "5             West Bank    2023-09-20      M                          NaN   \n",
       "6            Gaza Strip    2023-09-19      M                           No   \n",
       "7             West Bank    2023-09-19      M                          NaN   \n",
       "8             West Bank    2023-09-19      M                          NaN   \n",
       "9             West Bank    2023-09-09      M                          NaN   \n",
       "\n",
       "  place_of_residence place_of_residence_district type_of_injury  \\\n",
       "0     Nur Shams R.C.                     Tulkarm        gunfire   \n",
       "1     Nur Shams R.C.                     Tulkarm        gunfire   \n",
       "2           al-Yamun                       Jenin        gunfire   \n",
       "3  'Aqbat Jaber R.C.                     Jericho        gunfire   \n",
       "4              Jenin                       Jenin        gunfire   \n",
       "5              Jenin                       Jenin        gunfire   \n",
       "6         Khan Yunis                  Khan Yunis        gunfire   \n",
       "7         Jenin R.C.                       Jenin        gunfire   \n",
       "8         Jenin R.C.                       Jenin        gunfire   \n",
       "9     al-'Arrub Camp                      Hebron        gunfire   \n",
       "\n",
       "        ammunition                killed_by  \\\n",
       "0  live ammunition  Israeli security forces   \n",
       "1  live ammunition  Israeli security forces   \n",
       "2  live ammunition  Israeli security forces   \n",
       "3  live ammunition  Israeli security forces   \n",
       "4  live ammunition  Israeli security forces   \n",
       "5          missile  Israeli security forces   \n",
       "6  live ammunition  Israeli security forces   \n",
       "7          missile  Israeli security forces   \n",
       "8          missile  Israeli security forces   \n",
       "9  live ammunition  Israeli security forces   \n",
       "\n",
       "                                               notes  \n",
       "0  Fatally shot by Israeli forces while standing ...  \n",
       "1  Fatally shot by Israeli forces while trying to...  \n",
       "2  Fatally shot by soldiers while firing at them ...  \n",
       "3  Shot in the head by Israeli forces while throw...  \n",
       "4  Wounded by soldiers’ gunfire after running awa...  \n",
       "5  Wounded by shrapnel from a missile fired by Is...  \n",
       "6  Fatally shot by soldiers while participating i...  \n",
       "7  Wounded by shrapnel from a missile fired by Is...  \n",
       "8  Wounded by shrapnel from a missile fired by Is...  \n",
       "9  Fatally shot by a soldier after throwing two M...  "
      ]
     },
     "execution_count": 7,
     "metadata": {},
     "output_type": "execute_result"
    }
   ],
   "source": [
    "conflict_pd.head(10)"
   ]
  },
  {
   "cell_type": "code",
   "execution_count": 8,
   "metadata": {},
   "outputs": [],
   "source": [
    "pd.set_option('display.max_colwidth', None)\n"
   ]
  },
  {
   "cell_type": "code",
   "execution_count": 9,
   "metadata": {},
   "outputs": [],
   "source": [
    "pd.reset_option('display.max_colwidth')"
   ]
  },
  {
   "cell_type": "code",
   "execution_count": 10,
   "metadata": {
    "scrolled": true
   },
   "outputs": [
    {
     "data": {
      "text/html": [
       "<div>\n",
       "<style scoped>\n",
       "    .dataframe tbody tr th:only-of-type {\n",
       "        vertical-align: middle;\n",
       "    }\n",
       "\n",
       "    .dataframe tbody tr th {\n",
       "        vertical-align: top;\n",
       "    }\n",
       "\n",
       "    .dataframe thead th {\n",
       "        text-align: right;\n",
       "    }\n",
       "</style>\n",
       "<table border=\"1\" class=\"dataframe\">\n",
       "  <thead>\n",
       "    <tr style=\"text-align: right;\">\n",
       "      <th></th>\n",
       "      <th>name</th>\n",
       "      <th>date_of_event</th>\n",
       "      <th>age</th>\n",
       "      <th>citizenship</th>\n",
       "      <th>event_location</th>\n",
       "      <th>event_location_district</th>\n",
       "      <th>event_location_region</th>\n",
       "      <th>date_of_death</th>\n",
       "      <th>gender</th>\n",
       "      <th>took_part_in_the_hostilities</th>\n",
       "      <th>place_of_residence</th>\n",
       "      <th>place_of_residence_district</th>\n",
       "      <th>type_of_injury</th>\n",
       "      <th>ammunition</th>\n",
       "      <th>killed_by</th>\n",
       "      <th>notes</th>\n",
       "    </tr>\n",
       "  </thead>\n",
       "  <tbody>\n",
       "    <tr>\n",
       "      <th>0</th>\n",
       "      <td>'Abd a-Rahman Suleiman Muhammad Abu Daghash</td>\n",
       "      <td>2023-09-24</td>\n",
       "      <td>32.0</td>\n",
       "      <td>Palestinian</td>\n",
       "      <td>Nur Shams R.C.</td>\n",
       "      <td>Tulkarm</td>\n",
       "      <td>West Bank</td>\n",
       "      <td>2023-09-24</td>\n",
       "      <td>M</td>\n",
       "      <td>NaN</td>\n",
       "      <td>Nur Shams R.C.</td>\n",
       "      <td>Tulkarm</td>\n",
       "      <td>gunfire</td>\n",
       "      <td>live ammunition</td>\n",
       "      <td>Israeli security forces</td>\n",
       "      <td>Fatally shot by Israeli forces while standing ...</td>\n",
       "    </tr>\n",
       "    <tr>\n",
       "      <th>1</th>\n",
       "      <td>Usayed Farhan Muhammad 'Ali Abu 'Ali</td>\n",
       "      <td>2023-09-24</td>\n",
       "      <td>21.0</td>\n",
       "      <td>Palestinian</td>\n",
       "      <td>Nur Shams R.C.</td>\n",
       "      <td>Tulkarm</td>\n",
       "      <td>West Bank</td>\n",
       "      <td>2023-09-24</td>\n",
       "      <td>M</td>\n",
       "      <td>NaN</td>\n",
       "      <td>Nur Shams R.C.</td>\n",
       "      <td>Tulkarm</td>\n",
       "      <td>gunfire</td>\n",
       "      <td>live ammunition</td>\n",
       "      <td>Israeli security forces</td>\n",
       "      <td>Fatally shot by Israeli forces while trying to...</td>\n",
       "    </tr>\n",
       "    <tr>\n",
       "      <th>2</th>\n",
       "      <td>'Abdallah 'Imad Sa'ed Abu Hassan</td>\n",
       "      <td>2023-09-22</td>\n",
       "      <td>16.0</td>\n",
       "      <td>Palestinian</td>\n",
       "      <td>Kfar Dan</td>\n",
       "      <td>Jenin</td>\n",
       "      <td>West Bank</td>\n",
       "      <td>2023-09-22</td>\n",
       "      <td>M</td>\n",
       "      <td>NaN</td>\n",
       "      <td>al-Yamun</td>\n",
       "      <td>Jenin</td>\n",
       "      <td>gunfire</td>\n",
       "      <td>live ammunition</td>\n",
       "      <td>Israeli security forces</td>\n",
       "      <td>Fatally shot by soldiers while firing at them ...</td>\n",
       "    </tr>\n",
       "    <tr>\n",
       "      <th>3</th>\n",
       "      <td>Durgham Muhammad Yihya al-Akhras</td>\n",
       "      <td>2023-09-20</td>\n",
       "      <td>19.0</td>\n",
       "      <td>Palestinian</td>\n",
       "      <td>'Aqbat Jaber R.C.</td>\n",
       "      <td>Jericho</td>\n",
       "      <td>West Bank</td>\n",
       "      <td>2023-09-20</td>\n",
       "      <td>M</td>\n",
       "      <td>NaN</td>\n",
       "      <td>'Aqbat Jaber R.C.</td>\n",
       "      <td>Jericho</td>\n",
       "      <td>gunfire</td>\n",
       "      <td>live ammunition</td>\n",
       "      <td>Israeli security forces</td>\n",
       "      <td>Shot in the head by Israeli forces while throw...</td>\n",
       "    </tr>\n",
       "    <tr>\n",
       "      <th>4</th>\n",
       "      <td>Raafat 'Omar Ahmad Khamaisah</td>\n",
       "      <td>2023-09-19</td>\n",
       "      <td>15.0</td>\n",
       "      <td>Palestinian</td>\n",
       "      <td>Jenin R.C.</td>\n",
       "      <td>Jenin</td>\n",
       "      <td>West Bank</td>\n",
       "      <td>2023-09-19</td>\n",
       "      <td>M</td>\n",
       "      <td>NaN</td>\n",
       "      <td>Jenin</td>\n",
       "      <td>Jenin</td>\n",
       "      <td>gunfire</td>\n",
       "      <td>live ammunition</td>\n",
       "      <td>Israeli security forces</td>\n",
       "      <td>Wounded by soldiers’ gunfire after running awa...</td>\n",
       "    </tr>\n",
       "    <tr>\n",
       "      <th>5</th>\n",
       "      <td>'Ata Yasser 'Ata Musa</td>\n",
       "      <td>2023-09-19</td>\n",
       "      <td>29.0</td>\n",
       "      <td>Palestinian</td>\n",
       "      <td>Jenin R.C.</td>\n",
       "      <td>Jenin</td>\n",
       "      <td>West Bank</td>\n",
       "      <td>2023-09-20</td>\n",
       "      <td>M</td>\n",
       "      <td>NaN</td>\n",
       "      <td>Jenin</td>\n",
       "      <td>Jenin</td>\n",
       "      <td>gunfire</td>\n",
       "      <td>missile</td>\n",
       "      <td>Israeli security forces</td>\n",
       "      <td>Wounded by shrapnel from a missile fired by Is...</td>\n",
       "    </tr>\n",
       "    <tr>\n",
       "      <th>6</th>\n",
       "      <td>Yusef Salem Yusef Radwan</td>\n",
       "      <td>2023-09-19</td>\n",
       "      <td>24.0</td>\n",
       "      <td>Palestinian</td>\n",
       "      <td>Gaza City</td>\n",
       "      <td>Gaza</td>\n",
       "      <td>Gaza Strip</td>\n",
       "      <td>2023-09-19</td>\n",
       "      <td>M</td>\n",
       "      <td>No</td>\n",
       "      <td>Khan Yunis</td>\n",
       "      <td>Khan Yunis</td>\n",
       "      <td>gunfire</td>\n",
       "      <td>live ammunition</td>\n",
       "      <td>Israeli security forces</td>\n",
       "      <td>Fatally shot by soldiers while participating i...</td>\n",
       "    </tr>\n",
       "    <tr>\n",
       "      <th>7</th>\n",
       "      <td>Mahmoud Khaled S'ud 'Ar'arawi</td>\n",
       "      <td>2023-09-19</td>\n",
       "      <td>25.0</td>\n",
       "      <td>Palestinian</td>\n",
       "      <td>Jenin R.C.</td>\n",
       "      <td>Jenin</td>\n",
       "      <td>West Bank</td>\n",
       "      <td>2023-09-19</td>\n",
       "      <td>M</td>\n",
       "      <td>NaN</td>\n",
       "      <td>Jenin R.C.</td>\n",
       "      <td>Jenin</td>\n",
       "      <td>gunfire</td>\n",
       "      <td>missile</td>\n",
       "      <td>Israeli security forces</td>\n",
       "      <td>Wounded by shrapnel from a missile fired by Is...</td>\n",
       "    </tr>\n",
       "    <tr>\n",
       "      <th>8</th>\n",
       "      <td>Mahmoud 'Ali Nafe'a a-S'adi</td>\n",
       "      <td>2023-09-19</td>\n",
       "      <td>23.0</td>\n",
       "      <td>Palestinian</td>\n",
       "      <td>Jenin R.C.</td>\n",
       "      <td>Jenin</td>\n",
       "      <td>West Bank</td>\n",
       "      <td>2023-09-19</td>\n",
       "      <td>M</td>\n",
       "      <td>NaN</td>\n",
       "      <td>Jenin R.C.</td>\n",
       "      <td>Jenin</td>\n",
       "      <td>gunfire</td>\n",
       "      <td>missile</td>\n",
       "      <td>Israeli security forces</td>\n",
       "      <td>Wounded by shrapnel from a missile fired by Is...</td>\n",
       "    </tr>\n",
       "    <tr>\n",
       "      <th>9</th>\n",
       "      <td>Milad Munzer Wajih a-Ra'i</td>\n",
       "      <td>2023-09-09</td>\n",
       "      <td>15.0</td>\n",
       "      <td>Palestinian</td>\n",
       "      <td>al-'Arrub R.C.</td>\n",
       "      <td>Hebron</td>\n",
       "      <td>West Bank</td>\n",
       "      <td>2023-09-09</td>\n",
       "      <td>M</td>\n",
       "      <td>NaN</td>\n",
       "      <td>al-'Arrub Camp</td>\n",
       "      <td>Hebron</td>\n",
       "      <td>gunfire</td>\n",
       "      <td>live ammunition</td>\n",
       "      <td>Israeli security forces</td>\n",
       "      <td>Fatally shot by a soldier after throwing two M...</td>\n",
       "    </tr>\n",
       "  </tbody>\n",
       "</table>\n",
       "</div>"
      ],
      "text/plain": [
       "                                          name date_of_event   age  \\\n",
       "0  'Abd a-Rahman Suleiman Muhammad Abu Daghash    2023-09-24  32.0   \n",
       "1         Usayed Farhan Muhammad 'Ali Abu 'Ali    2023-09-24  21.0   \n",
       "2             'Abdallah 'Imad Sa'ed Abu Hassan    2023-09-22  16.0   \n",
       "3             Durgham Muhammad Yihya al-Akhras    2023-09-20  19.0   \n",
       "4                 Raafat 'Omar Ahmad Khamaisah    2023-09-19  15.0   \n",
       "5                        'Ata Yasser 'Ata Musa    2023-09-19  29.0   \n",
       "6                     Yusef Salem Yusef Radwan    2023-09-19  24.0   \n",
       "7                Mahmoud Khaled S'ud 'Ar'arawi    2023-09-19  25.0   \n",
       "8                  Mahmoud 'Ali Nafe'a a-S'adi    2023-09-19  23.0   \n",
       "9                    Milad Munzer Wajih a-Ra'i    2023-09-09  15.0   \n",
       "\n",
       "   citizenship     event_location event_location_district  \\\n",
       "0  Palestinian     Nur Shams R.C.                 Tulkarm   \n",
       "1  Palestinian     Nur Shams R.C.                 Tulkarm   \n",
       "2  Palestinian           Kfar Dan                   Jenin   \n",
       "3  Palestinian  'Aqbat Jaber R.C.                 Jericho   \n",
       "4  Palestinian         Jenin R.C.                   Jenin   \n",
       "5  Palestinian         Jenin R.C.                   Jenin   \n",
       "6  Palestinian          Gaza City                    Gaza   \n",
       "7  Palestinian         Jenin R.C.                   Jenin   \n",
       "8  Palestinian         Jenin R.C.                   Jenin   \n",
       "9  Palestinian     al-'Arrub R.C.                  Hebron   \n",
       "\n",
       "  event_location_region date_of_death gender took_part_in_the_hostilities  \\\n",
       "0             West Bank    2023-09-24      M                          NaN   \n",
       "1             West Bank    2023-09-24      M                          NaN   \n",
       "2             West Bank    2023-09-22      M                          NaN   \n",
       "3             West Bank    2023-09-20      M                          NaN   \n",
       "4             West Bank    2023-09-19      M                          NaN   \n",
       "5             West Bank    2023-09-20      M                          NaN   \n",
       "6            Gaza Strip    2023-09-19      M                           No   \n",
       "7             West Bank    2023-09-19      M                          NaN   \n",
       "8             West Bank    2023-09-19      M                          NaN   \n",
       "9             West Bank    2023-09-09      M                          NaN   \n",
       "\n",
       "  place_of_residence place_of_residence_district type_of_injury  \\\n",
       "0     Nur Shams R.C.                     Tulkarm        gunfire   \n",
       "1     Nur Shams R.C.                     Tulkarm        gunfire   \n",
       "2           al-Yamun                       Jenin        gunfire   \n",
       "3  'Aqbat Jaber R.C.                     Jericho        gunfire   \n",
       "4              Jenin                       Jenin        gunfire   \n",
       "5              Jenin                       Jenin        gunfire   \n",
       "6         Khan Yunis                  Khan Yunis        gunfire   \n",
       "7         Jenin R.C.                       Jenin        gunfire   \n",
       "8         Jenin R.C.                       Jenin        gunfire   \n",
       "9     al-'Arrub Camp                      Hebron        gunfire   \n",
       "\n",
       "        ammunition                killed_by  \\\n",
       "0  live ammunition  Israeli security forces   \n",
       "1  live ammunition  Israeli security forces   \n",
       "2  live ammunition  Israeli security forces   \n",
       "3  live ammunition  Israeli security forces   \n",
       "4  live ammunition  Israeli security forces   \n",
       "5          missile  Israeli security forces   \n",
       "6  live ammunition  Israeli security forces   \n",
       "7          missile  Israeli security forces   \n",
       "8          missile  Israeli security forces   \n",
       "9  live ammunition  Israeli security forces   \n",
       "\n",
       "                                               notes  \n",
       "0  Fatally shot by Israeli forces while standing ...  \n",
       "1  Fatally shot by Israeli forces while trying to...  \n",
       "2  Fatally shot by soldiers while firing at them ...  \n",
       "3  Shot in the head by Israeli forces while throw...  \n",
       "4  Wounded by soldiers’ gunfire after running awa...  \n",
       "5  Wounded by shrapnel from a missile fired by Is...  \n",
       "6  Fatally shot by soldiers while participating i...  \n",
       "7  Wounded by shrapnel from a missile fired by Is...  \n",
       "8  Wounded by shrapnel from a missile fired by Is...  \n",
       "9  Fatally shot by a soldier after throwing two M...  "
      ]
     },
     "execution_count": 10,
     "metadata": {},
     "output_type": "execute_result"
    }
   ],
   "source": [
    "conflict_pd.head(10)"
   ]
  },
  {
   "cell_type": "code",
   "execution_count": 11,
   "metadata": {
    "scrolled": false
   },
   "outputs": [
    {
     "data": {
      "text/plain": [
       "array(['live ammunition', 'missile', nan, 'rocket',\n",
       "       '0.22-caliber bullets', 'bomb', 'knife', 'shell', 'rock',\n",
       "       'rubber-coated metal bullets', 'stun grenade', 'teargas canister',\n",
       "       'flare bomb', 'sponge rounds', 'mortar fire', 'grad rocket',\n",
       "       'flechette shells', 'phosphorus shell', 'Qassam rocket',\n",
       "       'explosive belt', 'grenade', 'car bomb'], dtype=object)"
      ]
     },
     "execution_count": 11,
     "metadata": {},
     "output_type": "execute_result"
    }
   ],
   "source": [
    "conflict_pd['ammunition'].unique()"
   ]
  },
  {
   "cell_type": "code",
   "execution_count": 12,
   "metadata": {},
   "outputs": [
    {
     "data": {
      "text/plain": [
       "21"
      ]
     },
     "execution_count": 12,
     "metadata": {},
     "output_type": "execute_result"
    }
   ],
   "source": [
    "conflict_pd['ammunition'].nunique()"
   ]
  },
  {
   "cell_type": "code",
   "execution_count": 13,
   "metadata": {},
   "outputs": [
    {
     "data": {
      "text/plain": [
       "array(['Palestinian', 'Israeli', 'Jordanian', 'American'], dtype=object)"
      ]
     },
     "execution_count": 13,
     "metadata": {},
     "output_type": "execute_result"
    }
   ],
   "source": [
    "conflict_pd['citizenship'].unique()"
   ]
  },
  {
   "cell_type": "code",
   "execution_count": 14,
   "metadata": {
    "scrolled": true
   },
   "outputs": [
    {
     "data": {
      "text/plain": [
       "4"
      ]
     },
     "execution_count": 14,
     "metadata": {},
     "output_type": "execute_result"
    }
   ],
   "source": [
    "conflict_pd['citizenship'].nunique()"
   ]
  },
  {
   "cell_type": "code",
   "execution_count": 15,
   "metadata": {
    "scrolled": true
   },
   "outputs": [
    {
     "data": {
      "text/plain": [
       "array(['gunfire', 'stabbing', 'hit by a vehicle', 'explosion',\n",
       "       'physical assault', 'shelling', 'being bludgeoned with an axe',\n",
       "       'physically assaulted', 'beating', 'stones throwing',\n",
       "       'Strangulation', nan, 'fire', 'house demolition'], dtype=object)"
      ]
     },
     "execution_count": 15,
     "metadata": {},
     "output_type": "execute_result"
    }
   ],
   "source": [
    "conflict_pd['type_of_injury'].unique()"
   ]
  },
  {
   "cell_type": "code",
   "execution_count": 16,
   "metadata": {},
   "outputs": [],
   "source": [
    "conflict_pd['date_of_event']=pd.to_datetime(conflict_pd['date_of_event'])"
   ]
  },
  {
   "cell_type": "code",
   "execution_count": 17,
   "metadata": {
    "scrolled": true
   },
   "outputs": [
    {
     "name": "stdout",
     "output_type": "stream",
     "text": [
      "<class 'pandas.core.frame.DataFrame'>\n",
      "RangeIndex: 11124 entries, 0 to 11123\n",
      "Data columns (total 16 columns):\n",
      " #   Column                        Non-Null Count  Dtype         \n",
      "---  ------                        --------------  -----         \n",
      " 0   name                          11124 non-null  object        \n",
      " 1   date_of_event                 11124 non-null  datetime64[ns]\n",
      " 2   age                           10995 non-null  float64       \n",
      " 3   citizenship                   11124 non-null  object        \n",
      " 4   event_location                11124 non-null  object        \n",
      " 5   event_location_district       11124 non-null  object        \n",
      " 6   event_location_region         11124 non-null  object        \n",
      " 7   date_of_death                 11124 non-null  object        \n",
      " 8   gender                        11104 non-null  object        \n",
      " 9   took_part_in_the_hostilities  9694 non-null   object        \n",
      " 10  place_of_residence            11056 non-null  object        \n",
      " 11  place_of_residence_district   11056 non-null  object        \n",
      " 12  type_of_injury                10833 non-null  object        \n",
      " 13  ammunition                    5871 non-null   object        \n",
      " 14  killed_by                     11124 non-null  object        \n",
      " 15  notes                         10844 non-null  object        \n",
      "dtypes: datetime64[ns](1), float64(1), object(14)\n",
      "memory usage: 1.4+ MB\n"
     ]
    }
   ],
   "source": [
    "conflict_pd.info()"
   ]
  },
  {
   "cell_type": "code",
   "execution_count": 18,
   "metadata": {},
   "outputs": [
    {
     "data": {
      "text/plain": [
       "Index([24, 24, 22, 20, 19, 19, 19, 19, 19,  9,\n",
       "       ...\n",
       "        2,  2, 30, 28, 27, 19, 17,  7,  7,  2],\n",
       "      dtype='int32', name='date_of_event', length=11124)"
      ]
     },
     "execution_count": 18,
     "metadata": {},
     "output_type": "execute_result"
    }
   ],
   "source": [
    "pd.DatetimeIndex(conflict_pd['date_of_event']).day"
   ]
  },
  {
   "cell_type": "code",
   "execution_count": 19,
   "metadata": {
    "scrolled": true
   },
   "outputs": [
    {
     "data": {
      "text/html": [
       "<div>\n",
       "<style scoped>\n",
       "    .dataframe tbody tr th:only-of-type {\n",
       "        vertical-align: middle;\n",
       "    }\n",
       "\n",
       "    .dataframe tbody tr th {\n",
       "        vertical-align: top;\n",
       "    }\n",
       "\n",
       "    .dataframe thead th {\n",
       "        text-align: right;\n",
       "    }\n",
       "</style>\n",
       "<table border=\"1\" class=\"dataframe\">\n",
       "  <thead>\n",
       "    <tr style=\"text-align: right;\">\n",
       "      <th></th>\n",
       "      <th>date_of_event</th>\n",
       "      <th>age</th>\n",
       "    </tr>\n",
       "  </thead>\n",
       "  <tbody>\n",
       "    <tr>\n",
       "      <th>count</th>\n",
       "      <td>11124</td>\n",
       "      <td>10995.000000</td>\n",
       "    </tr>\n",
       "    <tr>\n",
       "      <th>mean</th>\n",
       "      <td>2009-10-31 01:25:18.446601984</td>\n",
       "      <td>26.745703</td>\n",
       "    </tr>\n",
       "    <tr>\n",
       "      <th>min</th>\n",
       "      <td>2000-10-02 00:00:00</td>\n",
       "      <td>1.000000</td>\n",
       "    </tr>\n",
       "    <tr>\n",
       "      <th>25%</th>\n",
       "      <td>2004-05-18 00:00:00</td>\n",
       "      <td>19.000000</td>\n",
       "    </tr>\n",
       "    <tr>\n",
       "      <th>50%</th>\n",
       "      <td>2008-12-29 00:00:00</td>\n",
       "      <td>23.000000</td>\n",
       "    </tr>\n",
       "    <tr>\n",
       "      <th>75%</th>\n",
       "      <td>2014-07-26 00:00:00</td>\n",
       "      <td>31.000000</td>\n",
       "    </tr>\n",
       "    <tr>\n",
       "      <th>max</th>\n",
       "      <td>2023-09-24 00:00:00</td>\n",
       "      <td>112.000000</td>\n",
       "    </tr>\n",
       "    <tr>\n",
       "      <th>std</th>\n",
       "      <td>NaN</td>\n",
       "      <td>13.780548</td>\n",
       "    </tr>\n",
       "  </tbody>\n",
       "</table>\n",
       "</div>"
      ],
      "text/plain": [
       "                       date_of_event           age\n",
       "count                          11124  10995.000000\n",
       "mean   2009-10-31 01:25:18.446601984     26.745703\n",
       "min              2000-10-02 00:00:00      1.000000\n",
       "25%              2004-05-18 00:00:00     19.000000\n",
       "50%              2008-12-29 00:00:00     23.000000\n",
       "75%              2014-07-26 00:00:00     31.000000\n",
       "max              2023-09-24 00:00:00    112.000000\n",
       "std                              NaN     13.780548"
      ]
     },
     "execution_count": 19,
     "metadata": {},
     "output_type": "execute_result"
    }
   ],
   "source": [
    "conflict_pd.describe()"
   ]
  },
  {
   "cell_type": "markdown",
   "metadata": {},
   "source": [
    "Lets sort date into ascending order."
   ]
  },
  {
   "cell_type": "code",
   "execution_count": 20,
   "metadata": {},
   "outputs": [],
   "source": [
    "conflict_pd=conflict_pd.sort_values(by='date_of_event').reset_index(drop=True)"
   ]
  },
  {
   "cell_type": "code",
   "execution_count": 21,
   "metadata": {
    "scrolled": true
   },
   "outputs": [
    {
     "data": {
      "text/html": [
       "<div>\n",
       "<style scoped>\n",
       "    .dataframe tbody tr th:only-of-type {\n",
       "        vertical-align: middle;\n",
       "    }\n",
       "\n",
       "    .dataframe tbody tr th {\n",
       "        vertical-align: top;\n",
       "    }\n",
       "\n",
       "    .dataframe thead th {\n",
       "        text-align: right;\n",
       "    }\n",
       "</style>\n",
       "<table border=\"1\" class=\"dataframe\">\n",
       "  <thead>\n",
       "    <tr style=\"text-align: right;\">\n",
       "      <th></th>\n",
       "      <th>name</th>\n",
       "      <th>date_of_event</th>\n",
       "      <th>age</th>\n",
       "      <th>citizenship</th>\n",
       "      <th>event_location</th>\n",
       "      <th>event_location_district</th>\n",
       "      <th>event_location_region</th>\n",
       "      <th>date_of_death</th>\n",
       "      <th>gender</th>\n",
       "      <th>took_part_in_the_hostilities</th>\n",
       "      <th>place_of_residence</th>\n",
       "      <th>place_of_residence_district</th>\n",
       "      <th>type_of_injury</th>\n",
       "      <th>ammunition</th>\n",
       "      <th>killed_by</th>\n",
       "      <th>notes</th>\n",
       "    </tr>\n",
       "  </thead>\n",
       "  <tbody>\n",
       "    <tr>\n",
       "      <th>0</th>\n",
       "      <td>Wichlav Zalsevsky</td>\n",
       "      <td>2000-10-02</td>\n",
       "      <td>24.0</td>\n",
       "      <td>Israeli</td>\n",
       "      <td>Masha</td>\n",
       "      <td>Salfit</td>\n",
       "      <td>West Bank</td>\n",
       "      <td>2000-10-02</td>\n",
       "      <td>M</td>\n",
       "      <td>Israelis</td>\n",
       "      <td>Ashdod</td>\n",
       "      <td>Israel</td>\n",
       "      <td>gunfire</td>\n",
       "      <td>live ammunition</td>\n",
       "      <td>Palestinian civilians</td>\n",
       "      <td>NaN</td>\n",
       "    </tr>\n",
       "    <tr>\n",
       "      <th>1</th>\n",
       "      <td>Fahed Mustafa 'Odeh Baker</td>\n",
       "      <td>2000-10-07</td>\n",
       "      <td>21.0</td>\n",
       "      <td>Palestinian</td>\n",
       "      <td>Bidya</td>\n",
       "      <td>Salfit</td>\n",
       "      <td>West Bank</td>\n",
       "      <td>2000-10-07</td>\n",
       "      <td>M</td>\n",
       "      <td>No</td>\n",
       "      <td>Bidya</td>\n",
       "      <td>Salfit</td>\n",
       "      <td>gunfire</td>\n",
       "      <td>NaN</td>\n",
       "      <td>Israeli civilians</td>\n",
       "      <td>Killed by settlers who rioted in Biddya village.</td>\n",
       "    </tr>\n",
       "    <tr>\n",
       "      <th>2</th>\n",
       "      <td>Hillel Lieberman</td>\n",
       "      <td>2000-10-07</td>\n",
       "      <td>36.0</td>\n",
       "      <td>Israeli</td>\n",
       "      <td>Nablus</td>\n",
       "      <td>Nablus</td>\n",
       "      <td>West Bank</td>\n",
       "      <td>2000-10-07</td>\n",
       "      <td>M</td>\n",
       "      <td>Israelis</td>\n",
       "      <td>Elon Moreh</td>\n",
       "      <td>Nablus</td>\n",
       "      <td>gunfire</td>\n",
       "      <td>live ammunition</td>\n",
       "      <td>Palestinian civilians</td>\n",
       "      <td>His body was found a day after he disappeared.</td>\n",
       "    </tr>\n",
       "    <tr>\n",
       "      <th>3</th>\n",
       "      <td>Farid Musa 'Issa a-Nesasreh</td>\n",
       "      <td>2000-10-17</td>\n",
       "      <td>28.0</td>\n",
       "      <td>Palestinian</td>\n",
       "      <td>Beit Furik</td>\n",
       "      <td>Nablus</td>\n",
       "      <td>West Bank</td>\n",
       "      <td>2000-10-17</td>\n",
       "      <td>M</td>\n",
       "      <td>Unknown</td>\n",
       "      <td>Beit Furik</td>\n",
       "      <td>Nablus</td>\n",
       "      <td>gunfire</td>\n",
       "      <td>NaN</td>\n",
       "      <td>Israeli civilians</td>\n",
       "      <td>Killed by a settler from Itamar while harvesti...</td>\n",
       "    </tr>\n",
       "    <tr>\n",
       "      <th>4</th>\n",
       "      <td>Binyamin Herling</td>\n",
       "      <td>2000-10-19</td>\n",
       "      <td>64.0</td>\n",
       "      <td>Israeli</td>\n",
       "      <td>Nablus</td>\n",
       "      <td>Nablus</td>\n",
       "      <td>West Bank</td>\n",
       "      <td>2000-10-19</td>\n",
       "      <td>M</td>\n",
       "      <td>Israelis</td>\n",
       "      <td>Kedumim</td>\n",
       "      <td>Tulkarm</td>\n",
       "      <td>gunfire</td>\n",
       "      <td>live ammunition</td>\n",
       "      <td>Palestinian civilians</td>\n",
       "      <td>Killed while hiking on Mt. Eival.</td>\n",
       "    </tr>\n",
       "    <tr>\n",
       "      <th>...</th>\n",
       "      <td>...</td>\n",
       "      <td>...</td>\n",
       "      <td>...</td>\n",
       "      <td>...</td>\n",
       "      <td>...</td>\n",
       "      <td>...</td>\n",
       "      <td>...</td>\n",
       "      <td>...</td>\n",
       "      <td>...</td>\n",
       "      <td>...</td>\n",
       "      <td>...</td>\n",
       "      <td>...</td>\n",
       "      <td>...</td>\n",
       "      <td>...</td>\n",
       "      <td>...</td>\n",
       "      <td>...</td>\n",
       "    </tr>\n",
       "    <tr>\n",
       "      <th>11119</th>\n",
       "      <td>Raafat 'Omar Ahmad Khamaisah</td>\n",
       "      <td>2023-09-19</td>\n",
       "      <td>15.0</td>\n",
       "      <td>Palestinian</td>\n",
       "      <td>Jenin R.C.</td>\n",
       "      <td>Jenin</td>\n",
       "      <td>West Bank</td>\n",
       "      <td>2023-09-19</td>\n",
       "      <td>M</td>\n",
       "      <td>NaN</td>\n",
       "      <td>Jenin</td>\n",
       "      <td>Jenin</td>\n",
       "      <td>gunfire</td>\n",
       "      <td>live ammunition</td>\n",
       "      <td>Israeli security forces</td>\n",
       "      <td>Wounded by soldiers’ gunfire after running awa...</td>\n",
       "    </tr>\n",
       "    <tr>\n",
       "      <th>11120</th>\n",
       "      <td>Durgham Muhammad Yihya al-Akhras</td>\n",
       "      <td>2023-09-20</td>\n",
       "      <td>19.0</td>\n",
       "      <td>Palestinian</td>\n",
       "      <td>'Aqbat Jaber R.C.</td>\n",
       "      <td>Jericho</td>\n",
       "      <td>West Bank</td>\n",
       "      <td>2023-09-20</td>\n",
       "      <td>M</td>\n",
       "      <td>NaN</td>\n",
       "      <td>'Aqbat Jaber R.C.</td>\n",
       "      <td>Jericho</td>\n",
       "      <td>gunfire</td>\n",
       "      <td>live ammunition</td>\n",
       "      <td>Israeli security forces</td>\n",
       "      <td>Shot in the head by Israeli forces while throw...</td>\n",
       "    </tr>\n",
       "    <tr>\n",
       "      <th>11121</th>\n",
       "      <td>'Abdallah 'Imad Sa'ed Abu Hassan</td>\n",
       "      <td>2023-09-22</td>\n",
       "      <td>16.0</td>\n",
       "      <td>Palestinian</td>\n",
       "      <td>Kfar Dan</td>\n",
       "      <td>Jenin</td>\n",
       "      <td>West Bank</td>\n",
       "      <td>2023-09-22</td>\n",
       "      <td>M</td>\n",
       "      <td>NaN</td>\n",
       "      <td>al-Yamun</td>\n",
       "      <td>Jenin</td>\n",
       "      <td>gunfire</td>\n",
       "      <td>live ammunition</td>\n",
       "      <td>Israeli security forces</td>\n",
       "      <td>Fatally shot by soldiers while firing at them ...</td>\n",
       "    </tr>\n",
       "    <tr>\n",
       "      <th>11122</th>\n",
       "      <td>Usayed Farhan Muhammad 'Ali Abu 'Ali</td>\n",
       "      <td>2023-09-24</td>\n",
       "      <td>21.0</td>\n",
       "      <td>Palestinian</td>\n",
       "      <td>Nur Shams R.C.</td>\n",
       "      <td>Tulkarm</td>\n",
       "      <td>West Bank</td>\n",
       "      <td>2023-09-24</td>\n",
       "      <td>M</td>\n",
       "      <td>NaN</td>\n",
       "      <td>Nur Shams R.C.</td>\n",
       "      <td>Tulkarm</td>\n",
       "      <td>gunfire</td>\n",
       "      <td>live ammunition</td>\n",
       "      <td>Israeli security forces</td>\n",
       "      <td>Fatally shot by Israeli forces while trying to...</td>\n",
       "    </tr>\n",
       "    <tr>\n",
       "      <th>11123</th>\n",
       "      <td>'Abd a-Rahman Suleiman Muhammad Abu Daghash</td>\n",
       "      <td>2023-09-24</td>\n",
       "      <td>32.0</td>\n",
       "      <td>Palestinian</td>\n",
       "      <td>Nur Shams R.C.</td>\n",
       "      <td>Tulkarm</td>\n",
       "      <td>West Bank</td>\n",
       "      <td>2023-09-24</td>\n",
       "      <td>M</td>\n",
       "      <td>NaN</td>\n",
       "      <td>Nur Shams R.C.</td>\n",
       "      <td>Tulkarm</td>\n",
       "      <td>gunfire</td>\n",
       "      <td>live ammunition</td>\n",
       "      <td>Israeli security forces</td>\n",
       "      <td>Fatally shot by Israeli forces while standing ...</td>\n",
       "    </tr>\n",
       "  </tbody>\n",
       "</table>\n",
       "<p>11124 rows × 16 columns</p>\n",
       "</div>"
      ],
      "text/plain": [
       "                                              name date_of_event   age  \\\n",
       "0                                Wichlav Zalsevsky    2000-10-02  24.0   \n",
       "1                        Fahed Mustafa 'Odeh Baker    2000-10-07  21.0   \n",
       "2                                 Hillel Lieberman    2000-10-07  36.0   \n",
       "3                      Farid Musa 'Issa a-Nesasreh    2000-10-17  28.0   \n",
       "4                                 Binyamin Herling    2000-10-19  64.0   \n",
       "...                                            ...           ...   ...   \n",
       "11119                 Raafat 'Omar Ahmad Khamaisah    2023-09-19  15.0   \n",
       "11120             Durgham Muhammad Yihya al-Akhras    2023-09-20  19.0   \n",
       "11121             'Abdallah 'Imad Sa'ed Abu Hassan    2023-09-22  16.0   \n",
       "11122         Usayed Farhan Muhammad 'Ali Abu 'Ali    2023-09-24  21.0   \n",
       "11123  'Abd a-Rahman Suleiman Muhammad Abu Daghash    2023-09-24  32.0   \n",
       "\n",
       "       citizenship     event_location event_location_district  \\\n",
       "0          Israeli              Masha                  Salfit   \n",
       "1      Palestinian              Bidya                  Salfit   \n",
       "2          Israeli             Nablus                  Nablus   \n",
       "3      Palestinian         Beit Furik                  Nablus   \n",
       "4          Israeli             Nablus                  Nablus   \n",
       "...            ...                ...                     ...   \n",
       "11119  Palestinian         Jenin R.C.                   Jenin   \n",
       "11120  Palestinian  'Aqbat Jaber R.C.                 Jericho   \n",
       "11121  Palestinian           Kfar Dan                   Jenin   \n",
       "11122  Palestinian     Nur Shams R.C.                 Tulkarm   \n",
       "11123  Palestinian     Nur Shams R.C.                 Tulkarm   \n",
       "\n",
       "      event_location_region date_of_death gender took_part_in_the_hostilities  \\\n",
       "0                 West Bank    2000-10-02      M                     Israelis   \n",
       "1                 West Bank    2000-10-07      M                           No   \n",
       "2                 West Bank    2000-10-07      M                     Israelis   \n",
       "3                 West Bank    2000-10-17      M                      Unknown   \n",
       "4                 West Bank    2000-10-19      M                     Israelis   \n",
       "...                     ...           ...    ...                          ...   \n",
       "11119             West Bank    2023-09-19      M                          NaN   \n",
       "11120             West Bank    2023-09-20      M                          NaN   \n",
       "11121             West Bank    2023-09-22      M                          NaN   \n",
       "11122             West Bank    2023-09-24      M                          NaN   \n",
       "11123             West Bank    2023-09-24      M                          NaN   \n",
       "\n",
       "      place_of_residence place_of_residence_district type_of_injury  \\\n",
       "0                 Ashdod                      Israel        gunfire   \n",
       "1                  Bidya                      Salfit        gunfire   \n",
       "2             Elon Moreh                      Nablus        gunfire   \n",
       "3             Beit Furik                      Nablus        gunfire   \n",
       "4                Kedumim                     Tulkarm        gunfire   \n",
       "...                  ...                         ...            ...   \n",
       "11119              Jenin                       Jenin        gunfire   \n",
       "11120  'Aqbat Jaber R.C.                     Jericho        gunfire   \n",
       "11121           al-Yamun                       Jenin        gunfire   \n",
       "11122     Nur Shams R.C.                     Tulkarm        gunfire   \n",
       "11123     Nur Shams R.C.                     Tulkarm        gunfire   \n",
       "\n",
       "            ammunition                killed_by  \\\n",
       "0      live ammunition    Palestinian civilians   \n",
       "1                  NaN        Israeli civilians   \n",
       "2      live ammunition    Palestinian civilians   \n",
       "3                  NaN        Israeli civilians   \n",
       "4      live ammunition    Palestinian civilians   \n",
       "...                ...                      ...   \n",
       "11119  live ammunition  Israeli security forces   \n",
       "11120  live ammunition  Israeli security forces   \n",
       "11121  live ammunition  Israeli security forces   \n",
       "11122  live ammunition  Israeli security forces   \n",
       "11123  live ammunition  Israeli security forces   \n",
       "\n",
       "                                                   notes  \n",
       "0                                                    NaN  \n",
       "1       Killed by settlers who rioted in Biddya village.  \n",
       "2         His body was found a day after he disappeared.  \n",
       "3      Killed by a settler from Itamar while harvesti...  \n",
       "4                      Killed while hiking on Mt. Eival.  \n",
       "...                                                  ...  \n",
       "11119  Wounded by soldiers’ gunfire after running awa...  \n",
       "11120  Shot in the head by Israeli forces while throw...  \n",
       "11121  Fatally shot by soldiers while firing at them ...  \n",
       "11122  Fatally shot by Israeli forces while trying to...  \n",
       "11123  Fatally shot by Israeli forces while standing ...  \n",
       "\n",
       "[11124 rows x 16 columns]"
      ]
     },
     "execution_count": 21,
     "metadata": {},
     "output_type": "execute_result"
    }
   ],
   "source": [
    "conflict_pd"
   ]
  },
  {
   "cell_type": "markdown",
   "metadata": {},
   "source": [
    "Count the number of deaths(rows) per date."
   ]
  },
  {
   "cell_type": "code",
   "execution_count": 22,
   "metadata": {},
   "outputs": [
    {
     "data": {
      "text/plain": [
       "0        False\n",
       "1         True\n",
       "2         True\n",
       "3        False\n",
       "4        False\n",
       "         ...  \n",
       "11119    False\n",
       "11120    False\n",
       "11121    False\n",
       "11122    False\n",
       "11123    False\n",
       "Name: date_of_event, Length: 11124, dtype: bool"
      ]
     },
     "execution_count": 22,
     "metadata": {},
     "output_type": "execute_result"
    }
   ],
   "source": [
    "conflict_pd['date_of_event']=='2000-10-07' #counts whether there is an entry at this date"
   ]
  },
  {
   "cell_type": "code",
   "execution_count": 23,
   "metadata": {},
   "outputs": [
    {
     "data": {
      "text/plain": [
       "2"
      ]
     },
     "execution_count": 23,
     "metadata": {},
     "output_type": "execute_result"
    }
   ],
   "source": [
    "len(conflict_pd[conflict_pd['date_of_event']=='2000-10-07']) #counts the number of 'true' rows \n",
    "#where there are entries"
   ]
  },
  {
   "cell_type": "markdown",
   "metadata": {},
   "source": [
    "Find the number of names per date of event to find the number of deaths per date."
   ]
  },
  {
   "cell_type": "code",
   "execution_count": 24,
   "metadata": {},
   "outputs": [],
   "source": [
    "death_count_df=conflict_pd.groupby('date_of_event')['name'].count().reset_index()"
   ]
  },
  {
   "cell_type": "code",
   "execution_count": 25,
   "metadata": {},
   "outputs": [],
   "source": [
    "death_count_df.columns=['date_of_death','deaths_per_date']"
   ]
  },
  {
   "cell_type": "code",
   "execution_count": 26,
   "metadata": {},
   "outputs": [],
   "source": [
    "death_count_df['total_deaths']=death_count_df.deaths_per_date.cumsum()"
   ]
  },
  {
   "cell_type": "markdown",
   "metadata": {},
   "source": [
    "Below shows the deaths per date and the total deaths so far."
   ]
  },
  {
   "cell_type": "code",
   "execution_count": 27,
   "metadata": {
    "scrolled": true
   },
   "outputs": [
    {
     "data": {
      "text/html": [
       "<div>\n",
       "<style scoped>\n",
       "    .dataframe tbody tr th:only-of-type {\n",
       "        vertical-align: middle;\n",
       "    }\n",
       "\n",
       "    .dataframe tbody tr th {\n",
       "        vertical-align: top;\n",
       "    }\n",
       "\n",
       "    .dataframe thead th {\n",
       "        text-align: right;\n",
       "    }\n",
       "</style>\n",
       "<table border=\"1\" class=\"dataframe\">\n",
       "  <thead>\n",
       "    <tr style=\"text-align: right;\">\n",
       "      <th></th>\n",
       "      <th>date_of_death</th>\n",
       "      <th>deaths_per_date</th>\n",
       "      <th>total_deaths</th>\n",
       "    </tr>\n",
       "  </thead>\n",
       "  <tbody>\n",
       "    <tr>\n",
       "      <th>0</th>\n",
       "      <td>2000-10-02</td>\n",
       "      <td>1</td>\n",
       "      <td>1</td>\n",
       "    </tr>\n",
       "    <tr>\n",
       "      <th>1</th>\n",
       "      <td>2000-10-07</td>\n",
       "      <td>2</td>\n",
       "      <td>3</td>\n",
       "    </tr>\n",
       "    <tr>\n",
       "      <th>2</th>\n",
       "      <td>2000-10-17</td>\n",
       "      <td>1</td>\n",
       "      <td>4</td>\n",
       "    </tr>\n",
       "    <tr>\n",
       "      <th>3</th>\n",
       "      <td>2000-10-19</td>\n",
       "      <td>1</td>\n",
       "      <td>5</td>\n",
       "    </tr>\n",
       "    <tr>\n",
       "      <th>4</th>\n",
       "      <td>2000-10-27</td>\n",
       "      <td>1</td>\n",
       "      <td>6</td>\n",
       "    </tr>\n",
       "    <tr>\n",
       "      <th>...</th>\n",
       "      <td>...</td>\n",
       "      <td>...</td>\n",
       "      <td>...</td>\n",
       "    </tr>\n",
       "    <tr>\n",
       "      <th>2400</th>\n",
       "      <td>2023-09-09</td>\n",
       "      <td>1</td>\n",
       "      <td>11115</td>\n",
       "    </tr>\n",
       "    <tr>\n",
       "      <th>2401</th>\n",
       "      <td>2023-09-19</td>\n",
       "      <td>5</td>\n",
       "      <td>11120</td>\n",
       "    </tr>\n",
       "    <tr>\n",
       "      <th>2402</th>\n",
       "      <td>2023-09-20</td>\n",
       "      <td>1</td>\n",
       "      <td>11121</td>\n",
       "    </tr>\n",
       "    <tr>\n",
       "      <th>2403</th>\n",
       "      <td>2023-09-22</td>\n",
       "      <td>1</td>\n",
       "      <td>11122</td>\n",
       "    </tr>\n",
       "    <tr>\n",
       "      <th>2404</th>\n",
       "      <td>2023-09-24</td>\n",
       "      <td>2</td>\n",
       "      <td>11124</td>\n",
       "    </tr>\n",
       "  </tbody>\n",
       "</table>\n",
       "<p>2405 rows × 3 columns</p>\n",
       "</div>"
      ],
      "text/plain": [
       "     date_of_death  deaths_per_date  total_deaths\n",
       "0       2000-10-02                1             1\n",
       "1       2000-10-07                2             3\n",
       "2       2000-10-17                1             4\n",
       "3       2000-10-19                1             5\n",
       "4       2000-10-27                1             6\n",
       "...            ...              ...           ...\n",
       "2400    2023-09-09                1         11115\n",
       "2401    2023-09-19                5         11120\n",
       "2402    2023-09-20                1         11121\n",
       "2403    2023-09-22                1         11122\n",
       "2404    2023-09-24                2         11124\n",
       "\n",
       "[2405 rows x 3 columns]"
      ]
     },
     "execution_count": 27,
     "metadata": {},
     "output_type": "execute_result"
    }
   ],
   "source": [
    "death_count_df"
   ]
  },
  {
   "cell_type": "code",
   "execution_count": 28,
   "metadata": {},
   "outputs": [],
   "source": [
    "import matplotlib.pyplot as plt\n",
    "import seaborn as sns"
   ]
  },
  {
   "cell_type": "code",
   "execution_count": 29,
   "metadata": {
    "scrolled": true
   },
   "outputs": [
    {
     "data": {
      "text/plain": [
       "Text(0.5, 1.0, 'Cumulative Sum of the Deaths in the \\n Israeli-Palestinian Conflict')"
      ]
     },
     "execution_count": 29,
     "metadata": {},
     "output_type": "execute_result"
    },
    {
     "data": {
      "image/png": "[encoded data removed]",
      "text/plain": [
       "<Figure size 640x480 with 1 Axes>"
      ]
     },
     "metadata": {},
     "output_type": "display_data"
    }
   ],
   "source": [
    "plt.plot(death_count_df['date_of_death'], death_count_df['total_deaths'])\n",
    "plt.xlabel('Year')\n",
    "plt.ylabel('Total Deaths')\n",
    "plt.title('Cumulative Sum of the Deaths in the \\n Israeli-Palestinian Conflict')"
   ]
  },
  {
   "cell_type": "code",
   "execution_count": 30,
   "metadata": {
    "scrolled": false
   },
   "outputs": [
    {
     "data": {
      "text/plain": [
       "Text(0.5, 1.0, 'Number of Deaths in the \\n Israeli-Palestinian Conflict')"
      ]
     },
     "execution_count": 30,
     "metadata": {},
     "output_type": "execute_result"
    },
    {
     "data": {
      "image/png": "[encoded data removed]",
      "text/plain": [
       "<Figure size 640x480 with 1 Axes>"
      ]
     },
     "metadata": {},
     "output_type": "display_data"
    }
   ],
   "source": [
    "plt.plot(death_count_df['date_of_death'], death_count_df['deaths_per_date'])\n",
    "plt.xlabel('Year')\n",
    "plt.ylabel('Deaths')\n",
    "plt.title('Number of Deaths in the \\n Israeli-Palestinian Conflict')"
   ]
  },
  {
   "cell_type": "markdown",
   "metadata": {},
   "source": [
    "Questions to ask:\n",
    "1. How many Israelis were killed? Palestinians?\n",
    "2. What is the demographic of the killed Israelis? Palestinians?\n",
    "    - How many were men, women, children(aged 0 - 12), teenagers(13-25), adults(25-60), seniors(60 and up)\n",
    "3. Compare the demographic side by side with Palestinians.\n",
    "4. Categorize the nature of the killings and compare side by side by nationality."
   ]
  },
  {
   "cell_type": "code",
   "execution_count": 31,
   "metadata": {},
   "outputs": [
    {
     "data": {
      "text/plain": [
       "1029"
      ]
     },
     "execution_count": 31,
     "metadata": {},
     "output_type": "execute_result"
    }
   ],
   "source": [
    "conflict_pd['citizenship'].str.contains('Israeli').sum()"
   ]
  },
  {
   "cell_type": "code",
   "execution_count": 32,
   "metadata": {
    "scrolled": false
   },
   "outputs": [
    {
     "data": {
      "text/plain": [
       "10092"
      ]
     },
     "execution_count": 32,
     "metadata": {},
     "output_type": "execute_result"
    }
   ],
   "source": [
    "conflict_pd['citizenship'].str.contains('Palestinian').sum()"
   ]
  },
  {
   "cell_type": "code",
   "execution_count": 33,
   "metadata": {
    "scrolled": true
   },
   "outputs": [
    {
     "data": {
      "text/plain": [
       "2"
      ]
     },
     "execution_count": 33,
     "metadata": {},
     "output_type": "execute_result"
    }
   ],
   "source": [
    "conflict_pd['citizenship'].str.contains('Jordanian').sum()"
   ]
  },
  {
   "cell_type": "code",
   "execution_count": 34,
   "metadata": {},
   "outputs": [
    {
     "data": {
      "text/plain": [
       "1"
      ]
     },
     "execution_count": 34,
     "metadata": {},
     "output_type": "execute_result"
    }
   ],
   "source": [
    "conflict_pd['citizenship'].str.contains('American').sum()"
   ]
  },
  {
   "cell_type": "code",
   "execution_count": 35,
   "metadata": {},
   "outputs": [
    {
     "data": {
      "text/plain": [
       "11121"
      ]
     },
     "execution_count": 35,
     "metadata": {},
     "output_type": "execute_result"
    }
   ],
   "source": [
    "10092+1029"
   ]
  },
  {
   "cell_type": "code",
   "execution_count": 36,
   "metadata": {},
   "outputs": [
    {
     "data": {
      "text/plain": [
       "array(['Israeli', 'Palestinian', 'Jordanian', 'American'], dtype=object)"
      ]
     },
     "execution_count": 36,
     "metadata": {},
     "output_type": "execute_result"
    }
   ],
   "source": [
    "conflict_pd['citizenship'].unique()"
   ]
  },
  {
   "cell_type": "code",
   "execution_count": 37,
   "metadata": {
    "scrolled": true
   },
   "outputs": [
    {
     "data": {
      "text/plain": [
       "array(['Palestinian civilians', 'Israeli civilians',\n",
       "       'Israeli security forces'], dtype=object)"
      ]
     },
     "execution_count": 37,
     "metadata": {},
     "output_type": "execute_result"
    }
   ],
   "source": [
    "conflict_pd['killed_by'].unique()"
   ]
  },
  {
   "cell_type": "code",
   "execution_count": 38,
   "metadata": {},
   "outputs": [
    {
     "data": {
      "text/plain": [
       "array(['Israelis', 'No', 'Unknown', 'Yes', nan,\n",
       "       'Object of targeted killing'], dtype=object)"
      ]
     },
     "execution_count": 38,
     "metadata": {},
     "output_type": "execute_result"
    }
   ],
   "source": [
    "conflict_pd['took_part_in_the_hostilities'].unique()"
   ]
  },
  {
   "cell_type": "code",
   "execution_count": 39,
   "metadata": {},
   "outputs": [
    {
     "data": {
      "text/plain": [
       "array(['gunfire', 'stabbing', 'explosion', 'stones throwing',\n",
       "       'hit by a vehicle', 'beating', 'shelling', nan, 'house demolition',\n",
       "       'fire', 'being bludgeoned with an axe', 'Strangulation',\n",
       "       'physically assaulted', 'physical assault'], dtype=object)"
      ]
     },
     "execution_count": 39,
     "metadata": {},
     "output_type": "execute_result"
    }
   ],
   "source": [
    "conflict_pd['type_of_injury'].unique()"
   ]
  },
  {
   "cell_type": "code",
   "execution_count": 40,
   "metadata": {
    "scrolled": true
   },
   "outputs": [
    {
     "name": "stdout",
     "output_type": "stream",
     "text": [
      "<class 'pandas.core.frame.DataFrame'>\n",
      "RangeIndex: 11124 entries, 0 to 11123\n",
      "Data columns (total 16 columns):\n",
      " #   Column                        Non-Null Count  Dtype         \n",
      "---  ------                        --------------  -----         \n",
      " 0   name                          11124 non-null  object        \n",
      " 1   date_of_event                 11124 non-null  datetime64[ns]\n",
      " 2   age                           10995 non-null  float64       \n",
      " 3   citizenship                   11124 non-null  object        \n",
      " 4   event_location                11124 non-null  object        \n",
      " 5   event_location_district       11124 non-null  object        \n",
      " 6   event_location_region         11124 non-null  object        \n",
      " 7   date_of_death                 11124 non-null  object        \n",
      " 8   gender                        11104 non-null  object        \n",
      " 9   took_part_in_the_hostilities  9694 non-null   object        \n",
      " 10  place_of_residence            11056 non-null  object        \n",
      " 11  place_of_residence_district   11056 non-null  object        \n",
      " 12  type_of_injury                10833 non-null  object        \n",
      " 13  ammunition                    5871 non-null   object        \n",
      " 14  killed_by                     11124 non-null  object        \n",
      " 15  notes                         10844 non-null  object        \n",
      "dtypes: datetime64[ns](1), float64(1), object(14)\n",
      "memory usage: 1.4+ MB\n"
     ]
    }
   ],
   "source": [
    "conflict_pd.info()"
   ]
  },
  {
   "cell_type": "code",
   "execution_count": 41,
   "metadata": {},
   "outputs": [
    {
     "data": {
      "text/plain": [
       "array(['Palestinian civilians', 'Israeli civilians',\n",
       "       'Israeli security forces'], dtype=object)"
      ]
     },
     "execution_count": 41,
     "metadata": {},
     "output_type": "execute_result"
    }
   ],
   "source": [
    "conflict_pd['killed_by'].unique()"
   ]
  },
  {
   "cell_type": "code",
   "execution_count": 42,
   "metadata": {
    "scrolled": true
   },
   "outputs": [
    {
     "data": {
      "text/html": [
       "<div>\n",
       "<style scoped>\n",
       "    .dataframe tbody tr th:only-of-type {\n",
       "        vertical-align: middle;\n",
       "    }\n",
       "\n",
       "    .dataframe tbody tr th {\n",
       "        vertical-align: top;\n",
       "    }\n",
       "\n",
       "    .dataframe thead th {\n",
       "        text-align: right;\n",
       "    }\n",
       "</style>\n",
       "<table border=\"1\" class=\"dataframe\">\n",
       "  <thead>\n",
       "    <tr style=\"text-align: right;\">\n",
       "      <th>citizenship</th>\n",
       "      <th>American</th>\n",
       "      <th>Israeli</th>\n",
       "      <th>Jordanian</th>\n",
       "      <th>Palestinian</th>\n",
       "    </tr>\n",
       "    <tr>\n",
       "      <th>date_of_event</th>\n",
       "      <th></th>\n",
       "      <th></th>\n",
       "      <th></th>\n",
       "      <th></th>\n",
       "    </tr>\n",
       "  </thead>\n",
       "  <tbody>\n",
       "    <tr>\n",
       "      <th>2000-10-02</th>\n",
       "      <td>0</td>\n",
       "      <td>1</td>\n",
       "      <td>0</td>\n",
       "      <td>0</td>\n",
       "    </tr>\n",
       "    <tr>\n",
       "      <th>2000-10-07</th>\n",
       "      <td>0</td>\n",
       "      <td>1</td>\n",
       "      <td>0</td>\n",
       "      <td>1</td>\n",
       "    </tr>\n",
       "    <tr>\n",
       "      <th>2000-10-17</th>\n",
       "      <td>0</td>\n",
       "      <td>0</td>\n",
       "      <td>0</td>\n",
       "      <td>1</td>\n",
       "    </tr>\n",
       "    <tr>\n",
       "      <th>2000-10-19</th>\n",
       "      <td>0</td>\n",
       "      <td>1</td>\n",
       "      <td>0</td>\n",
       "      <td>0</td>\n",
       "    </tr>\n",
       "    <tr>\n",
       "      <th>2000-10-27</th>\n",
       "      <td>0</td>\n",
       "      <td>1</td>\n",
       "      <td>0</td>\n",
       "      <td>0</td>\n",
       "    </tr>\n",
       "    <tr>\n",
       "      <th>...</th>\n",
       "      <td>...</td>\n",
       "      <td>...</td>\n",
       "      <td>...</td>\n",
       "      <td>...</td>\n",
       "    </tr>\n",
       "    <tr>\n",
       "      <th>2023-09-09</th>\n",
       "      <td>0</td>\n",
       "      <td>0</td>\n",
       "      <td>0</td>\n",
       "      <td>1</td>\n",
       "    </tr>\n",
       "    <tr>\n",
       "      <th>2023-09-19</th>\n",
       "      <td>0</td>\n",
       "      <td>0</td>\n",
       "      <td>0</td>\n",
       "      <td>5</td>\n",
       "    </tr>\n",
       "    <tr>\n",
       "      <th>2023-09-20</th>\n",
       "      <td>0</td>\n",
       "      <td>0</td>\n",
       "      <td>0</td>\n",
       "      <td>1</td>\n",
       "    </tr>\n",
       "    <tr>\n",
       "      <th>2023-09-22</th>\n",
       "      <td>0</td>\n",
       "      <td>0</td>\n",
       "      <td>0</td>\n",
       "      <td>1</td>\n",
       "    </tr>\n",
       "    <tr>\n",
       "      <th>2023-09-24</th>\n",
       "      <td>0</td>\n",
       "      <td>0</td>\n",
       "      <td>0</td>\n",
       "      <td>2</td>\n",
       "    </tr>\n",
       "  </tbody>\n",
       "</table>\n",
       "<p>2405 rows × 4 columns</p>\n",
       "</div>"
      ],
      "text/plain": [
       "citizenship    American  Israeli  Jordanian  Palestinian\n",
       "date_of_event                                           \n",
       "2000-10-02            0        1          0            0\n",
       "2000-10-07            0        1          0            1\n",
       "2000-10-17            0        0          0            1\n",
       "2000-10-19            0        1          0            0\n",
       "2000-10-27            0        1          0            0\n",
       "...                 ...      ...        ...          ...\n",
       "2023-09-09            0        0          0            1\n",
       "2023-09-19            0        0          0            5\n",
       "2023-09-20            0        0          0            1\n",
       "2023-09-22            0        0          0            1\n",
       "2023-09-24            0        0          0            2\n",
       "\n",
       "[2405 rows x 4 columns]"
      ]
     },
     "execution_count": 42,
     "metadata": {},
     "output_type": "execute_result"
    }
   ],
   "source": [
    "conflict_pd.groupby(['date_of_event','citizenship']).size().unstack(fill_value=0)"
   ]
  },
  {
   "cell_type": "code",
   "execution_count": 43,
   "metadata": {},
   "outputs": [],
   "source": [
    "israeli_count=conflict_pd[conflict_pd['citizenship']=='Israeli']"
   ]
  },
  {
   "cell_type": "code",
   "execution_count": 44,
   "metadata": {
    "scrolled": true
   },
   "outputs": [
    {
     "data": {
      "text/html": [
       "<div>\n",
       "<style scoped>\n",
       "    .dataframe tbody tr th:only-of-type {\n",
       "        vertical-align: middle;\n",
       "    }\n",
       "\n",
       "    .dataframe tbody tr th {\n",
       "        vertical-align: top;\n",
       "    }\n",
       "\n",
       "    .dataframe thead th {\n",
       "        text-align: right;\n",
       "    }\n",
       "</style>\n",
       "<table border=\"1\" class=\"dataframe\">\n",
       "  <thead>\n",
       "    <tr style=\"text-align: right;\">\n",
       "      <th></th>\n",
       "      <th>name</th>\n",
       "      <th>date_of_event</th>\n",
       "      <th>age</th>\n",
       "      <th>citizenship</th>\n",
       "      <th>event_location</th>\n",
       "      <th>event_location_district</th>\n",
       "      <th>event_location_region</th>\n",
       "      <th>date_of_death</th>\n",
       "      <th>gender</th>\n",
       "      <th>took_part_in_the_hostilities</th>\n",
       "      <th>place_of_residence</th>\n",
       "      <th>place_of_residence_district</th>\n",
       "      <th>type_of_injury</th>\n",
       "      <th>ammunition</th>\n",
       "      <th>killed_by</th>\n",
       "      <th>notes</th>\n",
       "    </tr>\n",
       "  </thead>\n",
       "  <tbody>\n",
       "    <tr>\n",
       "      <th>0</th>\n",
       "      <td>Wichlav Zalsevsky</td>\n",
       "      <td>2000-10-02</td>\n",
       "      <td>24.0</td>\n",
       "      <td>Israeli</td>\n",
       "      <td>Masha</td>\n",
       "      <td>Salfit</td>\n",
       "      <td>West Bank</td>\n",
       "      <td>2000-10-02</td>\n",
       "      <td>M</td>\n",
       "      <td>Israelis</td>\n",
       "      <td>Ashdod</td>\n",
       "      <td>Israel</td>\n",
       "      <td>gunfire</td>\n",
       "      <td>live ammunition</td>\n",
       "      <td>Palestinian civilians</td>\n",
       "      <td>NaN</td>\n",
       "    </tr>\n",
       "    <tr>\n",
       "      <th>2</th>\n",
       "      <td>Hillel Lieberman</td>\n",
       "      <td>2000-10-07</td>\n",
       "      <td>36.0</td>\n",
       "      <td>Israeli</td>\n",
       "      <td>Nablus</td>\n",
       "      <td>Nablus</td>\n",
       "      <td>West Bank</td>\n",
       "      <td>2000-10-07</td>\n",
       "      <td>M</td>\n",
       "      <td>Israelis</td>\n",
       "      <td>Elon Moreh</td>\n",
       "      <td>Nablus</td>\n",
       "      <td>gunfire</td>\n",
       "      <td>live ammunition</td>\n",
       "      <td>Palestinian civilians</td>\n",
       "      <td>His body was found a day after he disappeared.</td>\n",
       "    </tr>\n",
       "    <tr>\n",
       "      <th>4</th>\n",
       "      <td>Binyamin Herling</td>\n",
       "      <td>2000-10-19</td>\n",
       "      <td>64.0</td>\n",
       "      <td>Israeli</td>\n",
       "      <td>Nablus</td>\n",
       "      <td>Nablus</td>\n",
       "      <td>West Bank</td>\n",
       "      <td>2000-10-19</td>\n",
       "      <td>M</td>\n",
       "      <td>Israelis</td>\n",
       "      <td>Kedumim</td>\n",
       "      <td>Tulkarm</td>\n",
       "      <td>gunfire</td>\n",
       "      <td>live ammunition</td>\n",
       "      <td>Palestinian civilians</td>\n",
       "      <td>Killed while hiking on Mt. Eival.</td>\n",
       "    </tr>\n",
       "    <tr>\n",
       "      <th>5</th>\n",
       "      <td>Marik Gavrilov</td>\n",
       "      <td>2000-10-27</td>\n",
       "      <td>25.0</td>\n",
       "      <td>Israeli</td>\n",
       "      <td>Ramallah</td>\n",
       "      <td>Ramallah and al-Bira</td>\n",
       "      <td>West Bank</td>\n",
       "      <td>2000-10-27</td>\n",
       "      <td>M</td>\n",
       "      <td>Israelis</td>\n",
       "      <td>Banei Ayish</td>\n",
       "      <td>Israel</td>\n",
       "      <td>gunfire</td>\n",
       "      <td>live ammunition</td>\n",
       "      <td>Palestinian civilians</td>\n",
       "      <td>His body was found burnt in his car.</td>\n",
       "    </tr>\n",
       "    <tr>\n",
       "      <th>6</th>\n",
       "      <td>Amos Machlouf</td>\n",
       "      <td>2000-10-28</td>\n",
       "      <td>30.0</td>\n",
       "      <td>Israeli</td>\n",
       "      <td>Beit Jala</td>\n",
       "      <td>Bethlehem</td>\n",
       "      <td>West Bank</td>\n",
       "      <td>2000-10-28</td>\n",
       "      <td>M</td>\n",
       "      <td>Israelis</td>\n",
       "      <td>East Jerusalem</td>\n",
       "      <td>East Jerusalem</td>\n",
       "      <td>stabbing</td>\n",
       "      <td>NaN</td>\n",
       "      <td>Palestinian civilians</td>\n",
       "      <td>Killed when he was stabbed and shot. His body ...</td>\n",
       "    </tr>\n",
       "    <tr>\n",
       "      <th>...</th>\n",
       "      <td>...</td>\n",
       "      <td>...</td>\n",
       "      <td>...</td>\n",
       "      <td>...</td>\n",
       "      <td>...</td>\n",
       "      <td>...</td>\n",
       "      <td>...</td>\n",
       "      <td>...</td>\n",
       "      <td>...</td>\n",
       "      <td>...</td>\n",
       "      <td>...</td>\n",
       "      <td>...</td>\n",
       "      <td>...</td>\n",
       "      <td>...</td>\n",
       "      <td>...</td>\n",
       "      <td>...</td>\n",
       "    </tr>\n",
       "    <tr>\n",
       "      <th>11057</th>\n",
       "      <td>Ofer Fairman</td>\n",
       "      <td>2023-06-20</td>\n",
       "      <td>64.0</td>\n",
       "      <td>Israeli</td>\n",
       "      <td>Eli</td>\n",
       "      <td>Nablus</td>\n",
       "      <td>West Bank</td>\n",
       "      <td>2023-06-20</td>\n",
       "      <td>M</td>\n",
       "      <td>NaN</td>\n",
       "      <td>Eli</td>\n",
       "      <td>Nablus</td>\n",
       "      <td>gunfire</td>\n",
       "      <td>live ammunition</td>\n",
       "      <td>Palestinian civilians</td>\n",
       "      <td>Fatally shot by two Hamas military wing operat...</td>\n",
       "    </tr>\n",
       "    <tr>\n",
       "      <th>11094</th>\n",
       "      <td>Chen Amir</td>\n",
       "      <td>2023-08-05</td>\n",
       "      <td>42.0</td>\n",
       "      <td>Israeli</td>\n",
       "      <td>Tel Aviv-Yafo</td>\n",
       "      <td>Israel</td>\n",
       "      <td>Israel</td>\n",
       "      <td>2023-08-05</td>\n",
       "      <td>M</td>\n",
       "      <td>NaN</td>\n",
       "      <td>Bat Yam</td>\n",
       "      <td>Israel</td>\n",
       "      <td>gunfire</td>\n",
       "      <td>live ammunition</td>\n",
       "      <td>Palestinian civilians</td>\n",
       "      <td>Fatally shot by a Palestinian member of the Is...</td>\n",
       "    </tr>\n",
       "    <tr>\n",
       "      <th>11105</th>\n",
       "      <td>Shai Silas Nigerker</td>\n",
       "      <td>2023-08-19</td>\n",
       "      <td>60.0</td>\n",
       "      <td>Israeli</td>\n",
       "      <td>Huwarah</td>\n",
       "      <td>Nablus</td>\n",
       "      <td>West Bank</td>\n",
       "      <td>2023-08-19</td>\n",
       "      <td>M</td>\n",
       "      <td>NaN</td>\n",
       "      <td>Ashdod</td>\n",
       "      <td>Israel</td>\n",
       "      <td>gunfire</td>\n",
       "      <td>live ammunition</td>\n",
       "      <td>Palestinian civilians</td>\n",
       "      <td>Fatally shot by a Palestinian while in a car w...</td>\n",
       "    </tr>\n",
       "    <tr>\n",
       "      <th>11106</th>\n",
       "      <td>Aviad Nir</td>\n",
       "      <td>2023-08-19</td>\n",
       "      <td>28.0</td>\n",
       "      <td>Israeli</td>\n",
       "      <td>Huwarah</td>\n",
       "      <td>Nablus</td>\n",
       "      <td>West Bank</td>\n",
       "      <td>2023-08-19</td>\n",
       "      <td>M</td>\n",
       "      <td>NaN</td>\n",
       "      <td>Ashdod</td>\n",
       "      <td>Israel</td>\n",
       "      <td>gunfire</td>\n",
       "      <td>live ammunition</td>\n",
       "      <td>Palestinian civilians</td>\n",
       "      <td>Fatally shot by a Palestinian while in a car w...</td>\n",
       "    </tr>\n",
       "    <tr>\n",
       "      <th>11107</th>\n",
       "      <td>Batsheva Nagari</td>\n",
       "      <td>2023-08-21</td>\n",
       "      <td>40.0</td>\n",
       "      <td>Israeli</td>\n",
       "      <td>Beit Hagai</td>\n",
       "      <td>Hebron</td>\n",
       "      <td>West Bank</td>\n",
       "      <td>2023-08-21</td>\n",
       "      <td>F</td>\n",
       "      <td>NaN</td>\n",
       "      <td>Beit Hagai</td>\n",
       "      <td>Hebron</td>\n",
       "      <td>gunfire</td>\n",
       "      <td>live ammunition</td>\n",
       "      <td>Palestinian civilians</td>\n",
       "      <td>Fatally shot by Palestinians in a drive by sho...</td>\n",
       "    </tr>\n",
       "  </tbody>\n",
       "</table>\n",
       "<p>1029 rows × 16 columns</p>\n",
       "</div>"
      ],
      "text/plain": [
       "                      name date_of_event   age citizenship event_location  \\\n",
       "0        Wichlav Zalsevsky    2000-10-02  24.0     Israeli          Masha   \n",
       "2         Hillel Lieberman    2000-10-07  36.0     Israeli         Nablus   \n",
       "4         Binyamin Herling    2000-10-19  64.0     Israeli         Nablus   \n",
       "5           Marik Gavrilov    2000-10-27  25.0     Israeli       Ramallah   \n",
       "6            Amos Machlouf    2000-10-28  30.0     Israeli      Beit Jala   \n",
       "...                    ...           ...   ...         ...            ...   \n",
       "11057         Ofer Fairman    2023-06-20  64.0     Israeli            Eli   \n",
       "11094            Chen Amir    2023-08-05  42.0     Israeli  Tel Aviv-Yafo   \n",
       "11105  Shai Silas Nigerker    2023-08-19  60.0     Israeli        Huwarah   \n",
       "11106            Aviad Nir    2023-08-19  28.0     Israeli        Huwarah   \n",
       "11107      Batsheva Nagari    2023-08-21  40.0     Israeli     Beit Hagai   \n",
       "\n",
       "      event_location_district event_location_region date_of_death gender  \\\n",
       "0                      Salfit             West Bank    2000-10-02      M   \n",
       "2                      Nablus             West Bank    2000-10-07      M   \n",
       "4                      Nablus             West Bank    2000-10-19      M   \n",
       "5        Ramallah and al-Bira             West Bank    2000-10-27      M   \n",
       "6                   Bethlehem             West Bank    2000-10-28      M   \n",
       "...                       ...                   ...           ...    ...   \n",
       "11057                  Nablus             West Bank    2023-06-20      M   \n",
       "11094                  Israel                Israel    2023-08-05      M   \n",
       "11105                  Nablus             West Bank    2023-08-19      M   \n",
       "11106                  Nablus             West Bank    2023-08-19      M   \n",
       "11107                  Hebron             West Bank    2023-08-21      F   \n",
       "\n",
       "      took_part_in_the_hostilities place_of_residence  \\\n",
       "0                         Israelis             Ashdod   \n",
       "2                         Israelis         Elon Moreh   \n",
       "4                         Israelis            Kedumim   \n",
       "5                         Israelis        Banei Ayish   \n",
       "6                         Israelis     East Jerusalem   \n",
       "...                            ...                ...   \n",
       "11057                          NaN                Eli   \n",
       "11094                          NaN            Bat Yam   \n",
       "11105                          NaN             Ashdod   \n",
       "11106                          NaN             Ashdod   \n",
       "11107                          NaN         Beit Hagai   \n",
       "\n",
       "      place_of_residence_district type_of_injury       ammunition  \\\n",
       "0                          Israel        gunfire  live ammunition   \n",
       "2                          Nablus        gunfire  live ammunition   \n",
       "4                         Tulkarm        gunfire  live ammunition   \n",
       "5                          Israel        gunfire  live ammunition   \n",
       "6                  East Jerusalem       stabbing              NaN   \n",
       "...                           ...            ...              ...   \n",
       "11057                      Nablus        gunfire  live ammunition   \n",
       "11094                      Israel        gunfire  live ammunition   \n",
       "11105                      Israel        gunfire  live ammunition   \n",
       "11106                      Israel        gunfire  live ammunition   \n",
       "11107                      Hebron        gunfire  live ammunition   \n",
       "\n",
       "                   killed_by  \\\n",
       "0      Palestinian civilians   \n",
       "2      Palestinian civilians   \n",
       "4      Palestinian civilians   \n",
       "5      Palestinian civilians   \n",
       "6      Palestinian civilians   \n",
       "...                      ...   \n",
       "11057  Palestinian civilians   \n",
       "11094  Palestinian civilians   \n",
       "11105  Palestinian civilians   \n",
       "11106  Palestinian civilians   \n",
       "11107  Palestinian civilians   \n",
       "\n",
       "                                                   notes  \n",
       "0                                                    NaN  \n",
       "2         His body was found a day after he disappeared.  \n",
       "4                      Killed while hiking on Mt. Eival.  \n",
       "5                   His body was found burnt in his car.  \n",
       "6      Killed when he was stabbed and shot. His body ...  \n",
       "...                                                  ...  \n",
       "11057  Fatally shot by two Hamas military wing operat...  \n",
       "11094  Fatally shot by a Palestinian member of the Is...  \n",
       "11105  Fatally shot by a Palestinian while in a car w...  \n",
       "11106  Fatally shot by a Palestinian while in a car w...  \n",
       "11107  Fatally shot by Palestinians in a drive by sho...  \n",
       "\n",
       "[1029 rows x 16 columns]"
      ]
     },
     "execution_count": 44,
     "metadata": {},
     "output_type": "execute_result"
    }
   ],
   "source": [
    "israeli_count"
   ]
  },
  {
   "cell_type": "code",
   "execution_count": 45,
   "metadata": {},
   "outputs": [],
   "source": [
    "gender_israeli_count=israeli_count.groupby('gender').size()"
   ]
  },
  {
   "cell_type": "code",
   "execution_count": 46,
   "metadata": {
    "scrolled": false
   },
   "outputs": [
    {
     "data": {
      "text/plain": [
       "gender\n",
       "F    331\n",
       "M    698\n",
       "dtype: int64"
      ]
     },
     "execution_count": 46,
     "metadata": {},
     "output_type": "execute_result"
    }
   ],
   "source": [
    "gender_israeli_count"
   ]
  },
  {
   "cell_type": "code",
   "execution_count": 47,
   "metadata": {},
   "outputs": [],
   "source": [
    "palestinian_count=conflict_pd[conflict_pd['citizenship']=='Palestinian']"
   ]
  },
  {
   "cell_type": "code",
   "execution_count": 48,
   "metadata": {
    "scrolled": true
   },
   "outputs": [
    {
     "data": {
      "text/html": [
       "<div>\n",
       "<style scoped>\n",
       "    .dataframe tbody tr th:only-of-type {\n",
       "        vertical-align: middle;\n",
       "    }\n",
       "\n",
       "    .dataframe tbody tr th {\n",
       "        vertical-align: top;\n",
       "    }\n",
       "\n",
       "    .dataframe thead th {\n",
       "        text-align: right;\n",
       "    }\n",
       "</style>\n",
       "<table border=\"1\" class=\"dataframe\">\n",
       "  <thead>\n",
       "    <tr style=\"text-align: right;\">\n",
       "      <th></th>\n",
       "      <th>name</th>\n",
       "      <th>date_of_event</th>\n",
       "      <th>age</th>\n",
       "      <th>citizenship</th>\n",
       "      <th>event_location</th>\n",
       "      <th>event_location_district</th>\n",
       "      <th>event_location_region</th>\n",
       "      <th>date_of_death</th>\n",
       "      <th>gender</th>\n",
       "      <th>took_part_in_the_hostilities</th>\n",
       "      <th>place_of_residence</th>\n",
       "      <th>place_of_residence_district</th>\n",
       "      <th>type_of_injury</th>\n",
       "      <th>ammunition</th>\n",
       "      <th>killed_by</th>\n",
       "      <th>notes</th>\n",
       "    </tr>\n",
       "  </thead>\n",
       "  <tbody>\n",
       "    <tr>\n",
       "      <th>1</th>\n",
       "      <td>Fahed Mustafa 'Odeh Baker</td>\n",
       "      <td>2000-10-07</td>\n",
       "      <td>21.0</td>\n",
       "      <td>Palestinian</td>\n",
       "      <td>Bidya</td>\n",
       "      <td>Salfit</td>\n",
       "      <td>West Bank</td>\n",
       "      <td>2000-10-07</td>\n",
       "      <td>M</td>\n",
       "      <td>No</td>\n",
       "      <td>Bidya</td>\n",
       "      <td>Salfit</td>\n",
       "      <td>gunfire</td>\n",
       "      <td>NaN</td>\n",
       "      <td>Israeli civilians</td>\n",
       "      <td>Killed by settlers who rioted in Biddya village.</td>\n",
       "    </tr>\n",
       "    <tr>\n",
       "      <th>3</th>\n",
       "      <td>Farid Musa 'Issa a-Nesasreh</td>\n",
       "      <td>2000-10-17</td>\n",
       "      <td>28.0</td>\n",
       "      <td>Palestinian</td>\n",
       "      <td>Beit Furik</td>\n",
       "      <td>Nablus</td>\n",
       "      <td>West Bank</td>\n",
       "      <td>2000-10-17</td>\n",
       "      <td>M</td>\n",
       "      <td>Unknown</td>\n",
       "      <td>Beit Furik</td>\n",
       "      <td>Nablus</td>\n",
       "      <td>gunfire</td>\n",
       "      <td>NaN</td>\n",
       "      <td>Israeli civilians</td>\n",
       "      <td>Killed by a settler from Itamar while harvesti...</td>\n",
       "    </tr>\n",
       "    <tr>\n",
       "      <th>13</th>\n",
       "      <td>Mustafa Mahmoud Musa 'Alian</td>\n",
       "      <td>2000-11-14</td>\n",
       "      <td>47.0</td>\n",
       "      <td>Palestinian</td>\n",
       "      <td>Kafr Malik</td>\n",
       "      <td>Ramallah and al-Bira</td>\n",
       "      <td>West Bank</td>\n",
       "      <td>2000-11-14</td>\n",
       "      <td>M</td>\n",
       "      <td>No</td>\n",
       "      <td>Askar R.C.</td>\n",
       "      <td>Nablus</td>\n",
       "      <td>stones throwing</td>\n",
       "      <td>NaN</td>\n",
       "      <td>Israeli civilians</td>\n",
       "      <td>Killed as a result of being hit in the chest b...</td>\n",
       "    </tr>\n",
       "    <tr>\n",
       "      <th>25</th>\n",
       "      <td>Muhammad Judah Abu 'Aasi</td>\n",
       "      <td>2000-12-07</td>\n",
       "      <td>27.0</td>\n",
       "      <td>Palestinian</td>\n",
       "      <td>Erez (Industrial Zone)</td>\n",
       "      <td>North Gaza</td>\n",
       "      <td>Gaza Strip</td>\n",
       "      <td>2000-12-07</td>\n",
       "      <td>M</td>\n",
       "      <td>Yes</td>\n",
       "      <td>a-Shati' Camp</td>\n",
       "      <td>Gaza</td>\n",
       "      <td>gunfire</td>\n",
       "      <td>live ammunition</td>\n",
       "      <td>Israeli civilians</td>\n",
       "      <td>Killed by an Israeli civilian after he had sta...</td>\n",
       "    </tr>\n",
       "    <tr>\n",
       "      <th>28</th>\n",
       "      <td>Muhammad Hamed 'Ali Shalash</td>\n",
       "      <td>2000-12-17</td>\n",
       "      <td>18.0</td>\n",
       "      <td>Palestinian</td>\n",
       "      <td>'Abud</td>\n",
       "      <td>Ramallah and al-Bira</td>\n",
       "      <td>West Bank</td>\n",
       "      <td>2000-12-17</td>\n",
       "      <td>M</td>\n",
       "      <td>No</td>\n",
       "      <td>Shuqba</td>\n",
       "      <td>Ramallah and al-Bira</td>\n",
       "      <td>gunfire</td>\n",
       "      <td>NaN</td>\n",
       "      <td>Israeli civilians</td>\n",
       "      <td>Killed by settler gunfire when throwing stones...</td>\n",
       "    </tr>\n",
       "    <tr>\n",
       "      <th>...</th>\n",
       "      <td>...</td>\n",
       "      <td>...</td>\n",
       "      <td>...</td>\n",
       "      <td>...</td>\n",
       "      <td>...</td>\n",
       "      <td>...</td>\n",
       "      <td>...</td>\n",
       "      <td>...</td>\n",
       "      <td>...</td>\n",
       "      <td>...</td>\n",
       "      <td>...</td>\n",
       "      <td>...</td>\n",
       "      <td>...</td>\n",
       "      <td>...</td>\n",
       "      <td>...</td>\n",
       "      <td>...</td>\n",
       "    </tr>\n",
       "    <tr>\n",
       "      <th>11119</th>\n",
       "      <td>Raafat 'Omar Ahmad Khamaisah</td>\n",
       "      <td>2023-09-19</td>\n",
       "      <td>15.0</td>\n",
       "      <td>Palestinian</td>\n",
       "      <td>Jenin R.C.</td>\n",
       "      <td>Jenin</td>\n",
       "      <td>West Bank</td>\n",
       "      <td>2023-09-19</td>\n",
       "      <td>M</td>\n",
       "      <td>NaN</td>\n",
       "      <td>Jenin</td>\n",
       "      <td>Jenin</td>\n",
       "      <td>gunfire</td>\n",
       "      <td>live ammunition</td>\n",
       "      <td>Israeli security forces</td>\n",
       "      <td>Wounded by soldiers’ gunfire after running awa...</td>\n",
       "    </tr>\n",
       "    <tr>\n",
       "      <th>11120</th>\n",
       "      <td>Durgham Muhammad Yihya al-Akhras</td>\n",
       "      <td>2023-09-20</td>\n",
       "      <td>19.0</td>\n",
       "      <td>Palestinian</td>\n",
       "      <td>'Aqbat Jaber R.C.</td>\n",
       "      <td>Jericho</td>\n",
       "      <td>West Bank</td>\n",
       "      <td>2023-09-20</td>\n",
       "      <td>M</td>\n",
       "      <td>NaN</td>\n",
       "      <td>'Aqbat Jaber R.C.</td>\n",
       "      <td>Jericho</td>\n",
       "      <td>gunfire</td>\n",
       "      <td>live ammunition</td>\n",
       "      <td>Israeli security forces</td>\n",
       "      <td>Shot in the head by Israeli forces while throw...</td>\n",
       "    </tr>\n",
       "    <tr>\n",
       "      <th>11121</th>\n",
       "      <td>'Abdallah 'Imad Sa'ed Abu Hassan</td>\n",
       "      <td>2023-09-22</td>\n",
       "      <td>16.0</td>\n",
       "      <td>Palestinian</td>\n",
       "      <td>Kfar Dan</td>\n",
       "      <td>Jenin</td>\n",
       "      <td>West Bank</td>\n",
       "      <td>2023-09-22</td>\n",
       "      <td>M</td>\n",
       "      <td>NaN</td>\n",
       "      <td>al-Yamun</td>\n",
       "      <td>Jenin</td>\n",
       "      <td>gunfire</td>\n",
       "      <td>live ammunition</td>\n",
       "      <td>Israeli security forces</td>\n",
       "      <td>Fatally shot by soldiers while firing at them ...</td>\n",
       "    </tr>\n",
       "    <tr>\n",
       "      <th>11122</th>\n",
       "      <td>Usayed Farhan Muhammad 'Ali Abu 'Ali</td>\n",
       "      <td>2023-09-24</td>\n",
       "      <td>21.0</td>\n",
       "      <td>Palestinian</td>\n",
       "      <td>Nur Shams R.C.</td>\n",
       "      <td>Tulkarm</td>\n",
       "      <td>West Bank</td>\n",
       "      <td>2023-09-24</td>\n",
       "      <td>M</td>\n",
       "      <td>NaN</td>\n",
       "      <td>Nur Shams R.C.</td>\n",
       "      <td>Tulkarm</td>\n",
       "      <td>gunfire</td>\n",
       "      <td>live ammunition</td>\n",
       "      <td>Israeli security forces</td>\n",
       "      <td>Fatally shot by Israeli forces while trying to...</td>\n",
       "    </tr>\n",
       "    <tr>\n",
       "      <th>11123</th>\n",
       "      <td>'Abd a-Rahman Suleiman Muhammad Abu Daghash</td>\n",
       "      <td>2023-09-24</td>\n",
       "      <td>32.0</td>\n",
       "      <td>Palestinian</td>\n",
       "      <td>Nur Shams R.C.</td>\n",
       "      <td>Tulkarm</td>\n",
       "      <td>West Bank</td>\n",
       "      <td>2023-09-24</td>\n",
       "      <td>M</td>\n",
       "      <td>NaN</td>\n",
       "      <td>Nur Shams R.C.</td>\n",
       "      <td>Tulkarm</td>\n",
       "      <td>gunfire</td>\n",
       "      <td>live ammunition</td>\n",
       "      <td>Israeli security forces</td>\n",
       "      <td>Fatally shot by Israeli forces while standing ...</td>\n",
       "    </tr>\n",
       "  </tbody>\n",
       "</table>\n",
       "<p>10092 rows × 16 columns</p>\n",
       "</div>"
      ],
      "text/plain": [
       "                                              name date_of_event   age  \\\n",
       "1                        Fahed Mustafa 'Odeh Baker    2000-10-07  21.0   \n",
       "3                      Farid Musa 'Issa a-Nesasreh    2000-10-17  28.0   \n",
       "13                     Mustafa Mahmoud Musa 'Alian    2000-11-14  47.0   \n",
       "25                        Muhammad Judah Abu 'Aasi    2000-12-07  27.0   \n",
       "28                     Muhammad Hamed 'Ali Shalash    2000-12-17  18.0   \n",
       "...                                            ...           ...   ...   \n",
       "11119                 Raafat 'Omar Ahmad Khamaisah    2023-09-19  15.0   \n",
       "11120             Durgham Muhammad Yihya al-Akhras    2023-09-20  19.0   \n",
       "11121             'Abdallah 'Imad Sa'ed Abu Hassan    2023-09-22  16.0   \n",
       "11122         Usayed Farhan Muhammad 'Ali Abu 'Ali    2023-09-24  21.0   \n",
       "11123  'Abd a-Rahman Suleiman Muhammad Abu Daghash    2023-09-24  32.0   \n",
       "\n",
       "       citizenship          event_location event_location_district  \\\n",
       "1      Palestinian                   Bidya                  Salfit   \n",
       "3      Palestinian              Beit Furik                  Nablus   \n",
       "13     Palestinian              Kafr Malik    Ramallah and al-Bira   \n",
       "25     Palestinian  Erez (Industrial Zone)              North Gaza   \n",
       "28     Palestinian                   'Abud    Ramallah and al-Bira   \n",
       "...            ...                     ...                     ...   \n",
       "11119  Palestinian              Jenin R.C.                   Jenin   \n",
       "11120  Palestinian       'Aqbat Jaber R.C.                 Jericho   \n",
       "11121  Palestinian                Kfar Dan                   Jenin   \n",
       "11122  Palestinian          Nur Shams R.C.                 Tulkarm   \n",
       "11123  Palestinian          Nur Shams R.C.                 Tulkarm   \n",
       "\n",
       "      event_location_region date_of_death gender took_part_in_the_hostilities  \\\n",
       "1                 West Bank    2000-10-07      M                           No   \n",
       "3                 West Bank    2000-10-17      M                      Unknown   \n",
       "13                West Bank    2000-11-14      M                           No   \n",
       "25               Gaza Strip    2000-12-07      M                          Yes   \n",
       "28                West Bank    2000-12-17      M                           No   \n",
       "...                     ...           ...    ...                          ...   \n",
       "11119             West Bank    2023-09-19      M                          NaN   \n",
       "11120             West Bank    2023-09-20      M                          NaN   \n",
       "11121             West Bank    2023-09-22      M                          NaN   \n",
       "11122             West Bank    2023-09-24      M                          NaN   \n",
       "11123             West Bank    2023-09-24      M                          NaN   \n",
       "\n",
       "      place_of_residence place_of_residence_district   type_of_injury  \\\n",
       "1                  Bidya                      Salfit          gunfire   \n",
       "3             Beit Furik                      Nablus          gunfire   \n",
       "13            Askar R.C.                      Nablus  stones throwing   \n",
       "25         a-Shati' Camp                        Gaza          gunfire   \n",
       "28                Shuqba        Ramallah and al-Bira          gunfire   \n",
       "...                  ...                         ...              ...   \n",
       "11119              Jenin                       Jenin          gunfire   \n",
       "11120  'Aqbat Jaber R.C.                     Jericho          gunfire   \n",
       "11121           al-Yamun                       Jenin          gunfire   \n",
       "11122     Nur Shams R.C.                     Tulkarm          gunfire   \n",
       "11123     Nur Shams R.C.                     Tulkarm          gunfire   \n",
       "\n",
       "            ammunition                killed_by  \\\n",
       "1                  NaN        Israeli civilians   \n",
       "3                  NaN        Israeli civilians   \n",
       "13                 NaN        Israeli civilians   \n",
       "25     live ammunition        Israeli civilians   \n",
       "28                 NaN        Israeli civilians   \n",
       "...                ...                      ...   \n",
       "11119  live ammunition  Israeli security forces   \n",
       "11120  live ammunition  Israeli security forces   \n",
       "11121  live ammunition  Israeli security forces   \n",
       "11122  live ammunition  Israeli security forces   \n",
       "11123  live ammunition  Israeli security forces   \n",
       "\n",
       "                                                   notes  \n",
       "1       Killed by settlers who rioted in Biddya village.  \n",
       "3      Killed by a settler from Itamar while harvesti...  \n",
       "13     Killed as a result of being hit in the chest b...  \n",
       "25     Killed by an Israeli civilian after he had sta...  \n",
       "28     Killed by settler gunfire when throwing stones...  \n",
       "...                                                  ...  \n",
       "11119  Wounded by soldiers’ gunfire after running awa...  \n",
       "11120  Shot in the head by Israeli forces while throw...  \n",
       "11121  Fatally shot by soldiers while firing at them ...  \n",
       "11122  Fatally shot by Israeli forces while trying to...  \n",
       "11123  Fatally shot by Israeli forces while standing ...  \n",
       "\n",
       "[10092 rows x 16 columns]"
      ]
     },
     "execution_count": 48,
     "metadata": {},
     "output_type": "execute_result"
    }
   ],
   "source": [
    "palestinian_count"
   ]
  },
  {
   "cell_type": "code",
   "execution_count": 49,
   "metadata": {},
   "outputs": [],
   "source": [
    "gender_palestinian_count=palestinian_count.groupby('gender').size()"
   ]
  },
  {
   "cell_type": "code",
   "execution_count": 50,
   "metadata": {
    "scrolled": true
   },
   "outputs": [
    {
     "data": {
      "text/plain": [
       "gender\n",
       "F    1091\n",
       "M    8981\n",
       "dtype: int64"
      ]
     },
     "execution_count": 50,
     "metadata": {},
     "output_type": "execute_result"
    }
   ],
   "source": [
    "gender_palestinian_count"
   ]
  },
  {
   "cell_type": "code",
   "execution_count": 51,
   "metadata": {},
   "outputs": [],
   "source": [
    "gender_demo=pd.DataFrame(\n",
    "{\n",
    "    \"Nationality\":[\"Israeli\",\"Israeli\",\"Palestinian\",\"Palestinian\"],\n",
    "    \"Gender\":[\"Male\",\"Female\",\"Male\",\"Female\"],\n",
    "    \"Count\":[698,331,8981,1091]\n",
    "}\n",
    ")"
   ]
  },
  {
   "cell_type": "code",
   "execution_count": 52,
   "metadata": {
    "scrolled": true
   },
   "outputs": [
    {
     "data": {
      "text/html": [
       "<div>\n",
       "<style scoped>\n",
       "    .dataframe tbody tr th:only-of-type {\n",
       "        vertical-align: middle;\n",
       "    }\n",
       "\n",
       "    .dataframe tbody tr th {\n",
       "        vertical-align: top;\n",
       "    }\n",
       "\n",
       "    .dataframe thead th {\n",
       "        text-align: right;\n",
       "    }\n",
       "</style>\n",
       "<table border=\"1\" class=\"dataframe\">\n",
       "  <thead>\n",
       "    <tr style=\"text-align: right;\">\n",
       "      <th></th>\n",
       "      <th>Nationality</th>\n",
       "      <th>Gender</th>\n",
       "      <th>Count</th>\n",
       "    </tr>\n",
       "  </thead>\n",
       "  <tbody>\n",
       "    <tr>\n",
       "      <th>0</th>\n",
       "      <td>Israeli</td>\n",
       "      <td>Male</td>\n",
       "      <td>698</td>\n",
       "    </tr>\n",
       "    <tr>\n",
       "      <th>1</th>\n",
       "      <td>Israeli</td>\n",
       "      <td>Female</td>\n",
       "      <td>331</td>\n",
       "    </tr>\n",
       "    <tr>\n",
       "      <th>2</th>\n",
       "      <td>Palestinian</td>\n",
       "      <td>Male</td>\n",
       "      <td>8981</td>\n",
       "    </tr>\n",
       "    <tr>\n",
       "      <th>3</th>\n",
       "      <td>Palestinian</td>\n",
       "      <td>Female</td>\n",
       "      <td>1091</td>\n",
       "    </tr>\n",
       "  </tbody>\n",
       "</table>\n",
       "</div>"
      ],
      "text/plain": [
       "   Nationality  Gender  Count\n",
       "0      Israeli    Male    698\n",
       "1      Israeli  Female    331\n",
       "2  Palestinian    Male   8981\n",
       "3  Palestinian  Female   1091"
      ]
     },
     "execution_count": 52,
     "metadata": {},
     "output_type": "execute_result"
    }
   ],
   "source": [
    "gender_demo"
   ]
  },
  {
   "cell_type": "code",
   "execution_count": 53,
   "metadata": {
    "scrolled": true
   },
   "outputs": [
    {
     "name": "stderr",
     "output_type": "stream",
     "text": [
      "C:\\Users\\reyje\\anaconda3\\Lib\\site-packages\\seaborn\\_oldcore.py:1498: FutureWarning: is_categorical_dtype is deprecated and will be removed in a future version. Use isinstance(dtype, CategoricalDtype) instead\n",
      "  if pd.api.types.is_categorical_dtype(vector):\n",
      "C:\\Users\\reyje\\anaconda3\\Lib\\site-packages\\seaborn\\_oldcore.py:1498: FutureWarning: is_categorical_dtype is deprecated and will be removed in a future version. Use isinstance(dtype, CategoricalDtype) instead\n",
      "  if pd.api.types.is_categorical_dtype(vector):\n",
      "C:\\Users\\reyje\\anaconda3\\Lib\\site-packages\\seaborn\\_oldcore.py:1498: FutureWarning: is_categorical_dtype is deprecated and will be removed in a future version. Use isinstance(dtype, CategoricalDtype) instead\n",
      "  if pd.api.types.is_categorical_dtype(vector):\n",
      "C:\\Users\\reyje\\anaconda3\\Lib\\site-packages\\seaborn\\_oldcore.py:1498: FutureWarning: is_categorical_dtype is deprecated and will be removed in a future version. Use isinstance(dtype, CategoricalDtype) instead\n",
      "  if pd.api.types.is_categorical_dtype(vector):\n"
     ]
    },
    {
     "data": {
      "text/plain": [
       "Text(0.5, 1.0, 'Gender Distribution by Nationality')"
      ]
     },
     "execution_count": 53,
     "metadata": {},
     "output_type": "execute_result"
    },
    {
     "data": {
      "image/png": "[encoded data removed]",
      "text/plain": [
       "<Figure size 640x480 with 1 Axes>"
      ]
     },
     "metadata": {},
     "output_type": "display_data"
    }
   ],
   "source": [
    "sns.set(style=\"whitegrid\")\n",
    "g = sns.barplot(gender_demo, x=\"Nationality\",y=\"Count\", hue=\"Gender\")\n",
    "plt.title(\"Gender Distribution by Nationality\")"
   ]
  },
  {
   "cell_type": "markdown",
   "metadata": {},
   "source": [
    "Palestinians are disproportionately more affected than Israelis. However, the percentage of women Israeli (relative to the entire Israeli population) victims is higher than that of the percentage of women Palestinians."
   ]
  },
  {
   "cell_type": "markdown",
   "metadata": {},
   "source": [
    "How many were men, women, children(aged 0 - 12), teenagers(13-25), adults(26-60), seniors(61 and up)"
   ]
  },
  {
   "cell_type": "code",
   "execution_count": 54,
   "metadata": {},
   "outputs": [
    {
     "data": {
      "text/plain": [
       "43"
      ]
     },
     "execution_count": 54,
     "metadata": {},
     "output_type": "execute_result"
    }
   ],
   "source": [
    "israeli_0_to_12=conflict_pd[(conflict_pd['citizenship']=='Israeli') &\n",
    "                            (conflict_pd['age']>=0) & \n",
    "                            (conflict_pd['age']<=12)\n",
    "                           ].shape[0] #this counts the number of rows\n",
    "israeli_0_to_12"
   ]
  },
  {
   "cell_type": "code",
   "execution_count": 55,
   "metadata": {},
   "outputs": [
    {
     "data": {
      "text/plain": [
       "357"
      ]
     },
     "execution_count": 55,
     "metadata": {},
     "output_type": "execute_result"
    }
   ],
   "source": [
    "israeli_13_to_25=conflict_pd[(conflict_pd['citizenship']=='Israeli') &\n",
    "                            (conflict_pd['age']>12) & \n",
    "                            (conflict_pd['age']<=25)\n",
    "                           ].shape[0] #this counts the number of rows\n",
    "israeli_13_to_25"
   ]
  },
  {
   "cell_type": "code",
   "execution_count": 56,
   "metadata": {},
   "outputs": [
    {
     "data": {
      "text/plain": [
       "497"
      ]
     },
     "execution_count": 56,
     "metadata": {},
     "output_type": "execute_result"
    }
   ],
   "source": [
    "israeli_26_to_60=conflict_pd[(conflict_pd['citizenship']=='Israeli') &\n",
    "                            (conflict_pd['age']>25) & \n",
    "                            (conflict_pd['age']<=60)\n",
    "                           ].shape[0] #this counts the number of rows\n",
    "israeli_26_to_60"
   ]
  },
  {
   "cell_type": "code",
   "execution_count": 57,
   "metadata": {},
   "outputs": [
    {
     "data": {
      "text/plain": [
       "122"
      ]
     },
     "execution_count": 57,
     "metadata": {},
     "output_type": "execute_result"
    }
   ],
   "source": [
    "israeli_61_up=conflict_pd[(conflict_pd['citizenship']=='Israeli') &\n",
    "                            (conflict_pd['age']>60)\n",
    "                           ].shape[0] #this counts the number of rows\n",
    "israeli_61_up"
   ]
  },
  {
   "cell_type": "code",
   "execution_count": 58,
   "metadata": {},
   "outputs": [
    {
     "data": {
      "text/plain": [
       "1019"
      ]
     },
     "execution_count": 58,
     "metadata": {},
     "output_type": "execute_result"
    }
   ],
   "source": [
    "israeli_0_to_12+israeli_13_to_25+israeli_26_to_60+israeli_61_up"
   ]
  },
  {
   "cell_type": "code",
   "execution_count": 59,
   "metadata": {
    "scrolled": true
   },
   "outputs": [
    {
     "data": {
      "text/plain": [
       "768"
      ]
     },
     "execution_count": 59,
     "metadata": {},
     "output_type": "execute_result"
    }
   ],
   "source": [
    "palestinian_0_to_12=conflict_pd[(conflict_pd['citizenship']=='Palestinian') &\n",
    "                            (conflict_pd['age']>=0) & \n",
    "                            (conflict_pd['age']<=12)\n",
    "                           ].shape[0] #this counts the number of rows\n",
    "palestinian_0_to_12"
   ]
  },
  {
   "cell_type": "code",
   "execution_count": 60,
   "metadata": {},
   "outputs": [
    {
     "data": {
      "text/plain": [
       "5378"
      ]
     },
     "execution_count": 60,
     "metadata": {},
     "output_type": "execute_result"
    }
   ],
   "source": [
    "palestinian_13_to_25=conflict_pd[(conflict_pd['citizenship']=='Palestinian') &\n",
    "                            (conflict_pd['age']>12) & \n",
    "                            (conflict_pd['age']<=25)\n",
    "                           ].shape[0] #this counts the number of rows\n",
    "palestinian_13_to_25"
   ]
  },
  {
   "cell_type": "code",
   "execution_count": 61,
   "metadata": {},
   "outputs": [
    {
     "data": {
      "text/plain": [
       "3566"
      ]
     },
     "execution_count": 61,
     "metadata": {},
     "output_type": "execute_result"
    }
   ],
   "source": [
    "palestinian_26_to_60=conflict_pd[(conflict_pd['citizenship']=='Palestinian') &\n",
    "                            (conflict_pd['age']>25) & \n",
    "                            (conflict_pd['age']<=60)\n",
    "                           ].shape[0] #this counts the number of rows\n",
    "palestinian_26_to_60"
   ]
  },
  {
   "cell_type": "code",
   "execution_count": 62,
   "metadata": {},
   "outputs": [
    {
     "data": {
      "text/plain": [
       "261"
      ]
     },
     "execution_count": 62,
     "metadata": {},
     "output_type": "execute_result"
    }
   ],
   "source": [
    "palestinian_61_up=conflict_pd[(conflict_pd['citizenship']=='Palestinian') &\n",
    "                            (conflict_pd['age']>60)\n",
    "                           ].shape[0] #this counts the number of rows\n",
    "palestinian_61_up"
   ]
  },
  {
   "cell_type": "code",
   "execution_count": 63,
   "metadata": {},
   "outputs": [],
   "source": [
    "age_demo=pd.DataFrame(\n",
    "{\n",
    "    \"Nationality\":[\"Israeli\",\"Israeli\",\"Israeli\",\"Israeli\",\"Palestinian\",\n",
    "                   \"Palestinian\",\"Palestinian\",\"Palestinian\"],\n",
    "    \"Age\":[\"0-12\",\"13-25\",\"26-60\",\">=61\",\"0-12\",\"13-25\",\"26-60\",\">=61\"],\n",
    "    \"Count\":[43,357,497,122,768,5378,3566,261]\n",
    "}\n",
    ")"
   ]
  },
  {
   "cell_type": "code",
   "execution_count": 64,
   "metadata": {
    "scrolled": false
   },
   "outputs": [
    {
     "name": "stderr",
     "output_type": "stream",
     "text": [
      "C:\\Users\\reyje\\anaconda3\\Lib\\site-packages\\seaborn\\_oldcore.py:1498: FutureWarning: is_categorical_dtype is deprecated and will be removed in a future version. Use isinstance(dtype, CategoricalDtype) instead\n",
      "  if pd.api.types.is_categorical_dtype(vector):\n",
      "C:\\Users\\reyje\\anaconda3\\Lib\\site-packages\\seaborn\\_oldcore.py:1498: FutureWarning: is_categorical_dtype is deprecated and will be removed in a future version. Use isinstance(dtype, CategoricalDtype) instead\n",
      "  if pd.api.types.is_categorical_dtype(vector):\n",
      "C:\\Users\\reyje\\anaconda3\\Lib\\site-packages\\seaborn\\_oldcore.py:1498: FutureWarning: is_categorical_dtype is deprecated and will be removed in a future version. Use isinstance(dtype, CategoricalDtype) instead\n",
      "  if pd.api.types.is_categorical_dtype(vector):\n",
      "C:\\Users\\reyje\\anaconda3\\Lib\\site-packages\\seaborn\\_oldcore.py:1498: FutureWarning: is_categorical_dtype is deprecated and will be removed in a future version. Use isinstance(dtype, CategoricalDtype) instead\n",
      "  if pd.api.types.is_categorical_dtype(vector):\n"
     ]
    },
    {
     "data": {
      "text/plain": [
       "Text(0.5, 1.0, 'Age Distribution by Nationality')"
      ]
     },
     "execution_count": 64,
     "metadata": {},
     "output_type": "execute_result"
    },
    {
     "data": {
      "image/png": "[encoded data removed]",
      "text/plain": [
       "<Figure size 640x480 with 1 Axes>"
      ]
     },
     "metadata": {},
     "output_type": "display_data"
    }
   ],
   "source": [
    "sns.set(style=\"whitegrid\")\n",
    "g = sns.barplot(age_demo, x=\"Nationality\",y=\"Count\", hue=\"Age\")\n",
    "plt.title(\"Age Distribution by Nationality\")"
   ]
  },
  {
   "cell_type": "markdown",
   "metadata": {},
   "source": [
    "It can be deduced that relative to the nationality that each age group belongs to, there are higher percentage of younger Palestinian victims (<25 years old), than that of the percentage of younger Israeli victims.\n",
    "\n",
    "This suggests that when it comes to the possibility of crafting policies to bring justice about the victims, it would be prudent to highlight the number of young Palestinian victims because the ages of their deaths means greater unrealized aspirations and younger deaths tend to agitate the population of the nationality that they belong to.\n",
    "\n",
    "The purpose of this is to possibly bring about more proportionate policies in the pursuit for justice."
   ]
  },
  {
   "cell_type": "code",
   "execution_count": 65,
   "metadata": {},
   "outputs": [
    {
     "data": {
      "text/html": [
       "<div>\n",
       "<style scoped>\n",
       "    .dataframe tbody tr th:only-of-type {\n",
       "        vertical-align: middle;\n",
       "    }\n",
       "\n",
       "    .dataframe tbody tr th {\n",
       "        vertical-align: top;\n",
       "    }\n",
       "\n",
       "    .dataframe thead th {\n",
       "        text-align: right;\n",
       "    }\n",
       "</style>\n",
       "<table border=\"1\" class=\"dataframe\">\n",
       "  <thead>\n",
       "    <tr style=\"text-align: right;\">\n",
       "      <th></th>\n",
       "      <th>name</th>\n",
       "      <th>date_of_event</th>\n",
       "      <th>age</th>\n",
       "      <th>citizenship</th>\n",
       "      <th>event_location</th>\n",
       "      <th>event_location_district</th>\n",
       "      <th>event_location_region</th>\n",
       "      <th>date_of_death</th>\n",
       "      <th>gender</th>\n",
       "      <th>took_part_in_the_hostilities</th>\n",
       "      <th>place_of_residence</th>\n",
       "      <th>place_of_residence_district</th>\n",
       "      <th>type_of_injury</th>\n",
       "      <th>ammunition</th>\n",
       "      <th>killed_by</th>\n",
       "      <th>notes</th>\n",
       "    </tr>\n",
       "  </thead>\n",
       "  <tbody>\n",
       "    <tr>\n",
       "      <th>0</th>\n",
       "      <td>Wichlav Zalsevsky</td>\n",
       "      <td>2000-10-02</td>\n",
       "      <td>24.0</td>\n",
       "      <td>Israeli</td>\n",
       "      <td>Masha</td>\n",
       "      <td>Salfit</td>\n",
       "      <td>West Bank</td>\n",
       "      <td>2000-10-02</td>\n",
       "      <td>M</td>\n",
       "      <td>Israelis</td>\n",
       "      <td>Ashdod</td>\n",
       "      <td>Israel</td>\n",
       "      <td>gunfire</td>\n",
       "      <td>live ammunition</td>\n",
       "      <td>Palestinian civilians</td>\n",
       "      <td>NaN</td>\n",
       "    </tr>\n",
       "    <tr>\n",
       "      <th>2</th>\n",
       "      <td>Hillel Lieberman</td>\n",
       "      <td>2000-10-07</td>\n",
       "      <td>36.0</td>\n",
       "      <td>Israeli</td>\n",
       "      <td>Nablus</td>\n",
       "      <td>Nablus</td>\n",
       "      <td>West Bank</td>\n",
       "      <td>2000-10-07</td>\n",
       "      <td>M</td>\n",
       "      <td>Israelis</td>\n",
       "      <td>Elon Moreh</td>\n",
       "      <td>Nablus</td>\n",
       "      <td>gunfire</td>\n",
       "      <td>live ammunition</td>\n",
       "      <td>Palestinian civilians</td>\n",
       "      <td>His body was found a day after he disappeared.</td>\n",
       "    </tr>\n",
       "    <tr>\n",
       "      <th>4</th>\n",
       "      <td>Binyamin Herling</td>\n",
       "      <td>2000-10-19</td>\n",
       "      <td>64.0</td>\n",
       "      <td>Israeli</td>\n",
       "      <td>Nablus</td>\n",
       "      <td>Nablus</td>\n",
       "      <td>West Bank</td>\n",
       "      <td>2000-10-19</td>\n",
       "      <td>M</td>\n",
       "      <td>Israelis</td>\n",
       "      <td>Kedumim</td>\n",
       "      <td>Tulkarm</td>\n",
       "      <td>gunfire</td>\n",
       "      <td>live ammunition</td>\n",
       "      <td>Palestinian civilians</td>\n",
       "      <td>Killed while hiking on Mt. Eival.</td>\n",
       "    </tr>\n",
       "    <tr>\n",
       "      <th>5</th>\n",
       "      <td>Marik Gavrilov</td>\n",
       "      <td>2000-10-27</td>\n",
       "      <td>25.0</td>\n",
       "      <td>Israeli</td>\n",
       "      <td>Ramallah</td>\n",
       "      <td>Ramallah and al-Bira</td>\n",
       "      <td>West Bank</td>\n",
       "      <td>2000-10-27</td>\n",
       "      <td>M</td>\n",
       "      <td>Israelis</td>\n",
       "      <td>Banei Ayish</td>\n",
       "      <td>Israel</td>\n",
       "      <td>gunfire</td>\n",
       "      <td>live ammunition</td>\n",
       "      <td>Palestinian civilians</td>\n",
       "      <td>His body was found burnt in his car.</td>\n",
       "    </tr>\n",
       "    <tr>\n",
       "      <th>6</th>\n",
       "      <td>Amos Machlouf</td>\n",
       "      <td>2000-10-28</td>\n",
       "      <td>30.0</td>\n",
       "      <td>Israeli</td>\n",
       "      <td>Beit Jala</td>\n",
       "      <td>Bethlehem</td>\n",
       "      <td>West Bank</td>\n",
       "      <td>2000-10-28</td>\n",
       "      <td>M</td>\n",
       "      <td>Israelis</td>\n",
       "      <td>East Jerusalem</td>\n",
       "      <td>East Jerusalem</td>\n",
       "      <td>stabbing</td>\n",
       "      <td>NaN</td>\n",
       "      <td>Palestinian civilians</td>\n",
       "      <td>Killed when he was stabbed and shot. His body ...</td>\n",
       "    </tr>\n",
       "    <tr>\n",
       "      <th>...</th>\n",
       "      <td>...</td>\n",
       "      <td>...</td>\n",
       "      <td>...</td>\n",
       "      <td>...</td>\n",
       "      <td>...</td>\n",
       "      <td>...</td>\n",
       "      <td>...</td>\n",
       "      <td>...</td>\n",
       "      <td>...</td>\n",
       "      <td>...</td>\n",
       "      <td>...</td>\n",
       "      <td>...</td>\n",
       "      <td>...</td>\n",
       "      <td>...</td>\n",
       "      <td>...</td>\n",
       "      <td>...</td>\n",
       "    </tr>\n",
       "    <tr>\n",
       "      <th>6843</th>\n",
       "      <td>Moshe Ami</td>\n",
       "      <td>2011-10-29</td>\n",
       "      <td>56.0</td>\n",
       "      <td>Israeli</td>\n",
       "      <td>Ashkelon</td>\n",
       "      <td>Israel</td>\n",
       "      <td>Israel</td>\n",
       "      <td>2011-10-30</td>\n",
       "      <td>M</td>\n",
       "      <td>Israelis</td>\n",
       "      <td>Ashkelon</td>\n",
       "      <td>Israel</td>\n",
       "      <td>gunfire</td>\n",
       "      <td>grad rocket</td>\n",
       "      <td>Palestinian civilians</td>\n",
       "      <td>Hit while riding in his car in Ashkelon.</td>\n",
       "    </tr>\n",
       "    <tr>\n",
       "      <th>6955</th>\n",
       "      <td>Itzik Amsalem</td>\n",
       "      <td>2012-11-15</td>\n",
       "      <td>27.0</td>\n",
       "      <td>Israeli</td>\n",
       "      <td>Kiryat Malachi</td>\n",
       "      <td>Israel</td>\n",
       "      <td>Israel</td>\n",
       "      <td>2012-11-15</td>\n",
       "      <td>M</td>\n",
       "      <td>Israelis</td>\n",
       "      <td>Kiryat Malachi</td>\n",
       "      <td>Israel</td>\n",
       "      <td>gunfire</td>\n",
       "      <td>grad rocket</td>\n",
       "      <td>Palestinian civilians</td>\n",
       "      <td>Killed by a direct hit to his house by a rocke...</td>\n",
       "    </tr>\n",
       "    <tr>\n",
       "      <th>6964</th>\n",
       "      <td>Aharon Viktor Smadga</td>\n",
       "      <td>2012-11-15</td>\n",
       "      <td>49.0</td>\n",
       "      <td>Israeli</td>\n",
       "      <td>Kiryat Malachi</td>\n",
       "      <td>Israel</td>\n",
       "      <td>Israel</td>\n",
       "      <td>2012-11-15</td>\n",
       "      <td>M</td>\n",
       "      <td>Israelis</td>\n",
       "      <td>Kiryat Malachi</td>\n",
       "      <td>Israel</td>\n",
       "      <td>gunfire</td>\n",
       "      <td>grad rocket</td>\n",
       "      <td>Palestinian civilians</td>\n",
       "      <td>Killed by a direct hit to his house by a rocke...</td>\n",
       "    </tr>\n",
       "    <tr>\n",
       "      <th>6966</th>\n",
       "      <td>Mira Sharf</td>\n",
       "      <td>2012-11-15</td>\n",
       "      <td>25.0</td>\n",
       "      <td>Israeli</td>\n",
       "      <td>Kiryat Malachi</td>\n",
       "      <td>Israel</td>\n",
       "      <td>Israel</td>\n",
       "      <td>2012-11-15</td>\n",
       "      <td>F</td>\n",
       "      <td>Israelis</td>\n",
       "      <td>Kiryat Malachi</td>\n",
       "      <td>Israel</td>\n",
       "      <td>gunfire</td>\n",
       "      <td>grad rocket</td>\n",
       "      <td>Palestinian civilians</td>\n",
       "      <td>Wounded in a direct hit by a rocket on her hou...</td>\n",
       "    </tr>\n",
       "    <tr>\n",
       "      <th>7166</th>\n",
       "      <td>Salah Shukri Abu Ltayef</td>\n",
       "      <td>2013-12-24</td>\n",
       "      <td>22.0</td>\n",
       "      <td>Israeli</td>\n",
       "      <td>Kibbutz Nahal Oz</td>\n",
       "      <td>Israel</td>\n",
       "      <td>Israel</td>\n",
       "      <td>2013-12-24</td>\n",
       "      <td>M</td>\n",
       "      <td>Israelis</td>\n",
       "      <td>Rahat</td>\n",
       "      <td>Israel</td>\n",
       "      <td>gunfire</td>\n",
       "      <td>live ammunition</td>\n",
       "      <td>Palestinian civilians</td>\n",
       "      <td>Shot at while repairing the Gaza perimeter fen...</td>\n",
       "    </tr>\n",
       "  </tbody>\n",
       "</table>\n",
       "<p>771 rows × 16 columns</p>\n",
       "</div>"
      ],
      "text/plain": [
       "                         name date_of_event   age citizenship  \\\n",
       "0           Wichlav Zalsevsky    2000-10-02  24.0     Israeli   \n",
       "2            Hillel Lieberman    2000-10-07  36.0     Israeli   \n",
       "4            Binyamin Herling    2000-10-19  64.0     Israeli   \n",
       "5              Marik Gavrilov    2000-10-27  25.0     Israeli   \n",
       "6               Amos Machlouf    2000-10-28  30.0     Israeli   \n",
       "...                       ...           ...   ...         ...   \n",
       "6843                Moshe Ami    2011-10-29  56.0     Israeli   \n",
       "6955            Itzik Amsalem    2012-11-15  27.0     Israeli   \n",
       "6964     Aharon Viktor Smadga    2012-11-15  49.0     Israeli   \n",
       "6966               Mira Sharf    2012-11-15  25.0     Israeli   \n",
       "7166  Salah Shukri Abu Ltayef    2013-12-24  22.0     Israeli   \n",
       "\n",
       "        event_location event_location_district event_location_region  \\\n",
       "0                Masha                  Salfit             West Bank   \n",
       "2               Nablus                  Nablus             West Bank   \n",
       "4               Nablus                  Nablus             West Bank   \n",
       "5             Ramallah    Ramallah and al-Bira             West Bank   \n",
       "6            Beit Jala               Bethlehem             West Bank   \n",
       "...                ...                     ...                   ...   \n",
       "6843          Ashkelon                  Israel                Israel   \n",
       "6955    Kiryat Malachi                  Israel                Israel   \n",
       "6964    Kiryat Malachi                  Israel                Israel   \n",
       "6966    Kiryat Malachi                  Israel                Israel   \n",
       "7166  Kibbutz Nahal Oz                  Israel                Israel   \n",
       "\n",
       "     date_of_death gender took_part_in_the_hostilities place_of_residence  \\\n",
       "0       2000-10-02      M                     Israelis             Ashdod   \n",
       "2       2000-10-07      M                     Israelis         Elon Moreh   \n",
       "4       2000-10-19      M                     Israelis            Kedumim   \n",
       "5       2000-10-27      M                     Israelis        Banei Ayish   \n",
       "6       2000-10-28      M                     Israelis     East Jerusalem   \n",
       "...            ...    ...                          ...                ...   \n",
       "6843    2011-10-30      M                     Israelis           Ashkelon   \n",
       "6955    2012-11-15      M                     Israelis     Kiryat Malachi   \n",
       "6964    2012-11-15      M                     Israelis     Kiryat Malachi   \n",
       "6966    2012-11-15      F                     Israelis     Kiryat Malachi   \n",
       "7166    2013-12-24      M                     Israelis              Rahat   \n",
       "\n",
       "     place_of_residence_district type_of_injury       ammunition  \\\n",
       "0                         Israel        gunfire  live ammunition   \n",
       "2                         Nablus        gunfire  live ammunition   \n",
       "4                        Tulkarm        gunfire  live ammunition   \n",
       "5                         Israel        gunfire  live ammunition   \n",
       "6                 East Jerusalem       stabbing              NaN   \n",
       "...                          ...            ...              ...   \n",
       "6843                      Israel        gunfire      grad rocket   \n",
       "6955                      Israel        gunfire      grad rocket   \n",
       "6964                      Israel        gunfire      grad rocket   \n",
       "6966                      Israel        gunfire      grad rocket   \n",
       "7166                      Israel        gunfire  live ammunition   \n",
       "\n",
       "                  killed_by                                              notes  \n",
       "0     Palestinian civilians                                                NaN  \n",
       "2     Palestinian civilians     His body was found a day after he disappeared.  \n",
       "4     Palestinian civilians                  Killed while hiking on Mt. Eival.  \n",
       "5     Palestinian civilians               His body was found burnt in his car.  \n",
       "6     Palestinian civilians  Killed when he was stabbed and shot. His body ...  \n",
       "...                     ...                                                ...  \n",
       "6843  Palestinian civilians           Hit while riding in his car in Ashkelon.  \n",
       "6955  Palestinian civilians  Killed by a direct hit to his house by a rocke...  \n",
       "6964  Palestinian civilians  Killed by a direct hit to his house by a rocke...  \n",
       "6966  Palestinian civilians  Wounded in a direct hit by a rocket on her hou...  \n",
       "7166  Palestinian civilians  Shot at while repairing the Gaza perimeter fen...  \n",
       "\n",
       "[771 rows x 16 columns]"
      ]
     },
     "execution_count": 65,
     "metadata": {},
     "output_type": "execute_result"
    }
   ],
   "source": [
    "conflict_pd[(conflict_pd['citizenship']=='Israeli') & \n",
    "            (conflict_pd['took_part_in_the_hostilities']=='Israelis')]"
   ]
  },
  {
   "cell_type": "markdown",
   "metadata": {},
   "source": [
    "How many among the victims participated in the hostilities? Separate it by nationality"
   ]
  },
  {
   "cell_type": "code",
   "execution_count": 66,
   "metadata": {},
   "outputs": [
    {
     "data": {
      "text/plain": [
       "array(['Israelis', 'No', 'Unknown', 'Yes', nan,\n",
       "       'Object of targeted killing'], dtype=object)"
      ]
     },
     "execution_count": 66,
     "metadata": {},
     "output_type": "execute_result"
    }
   ],
   "source": [
    "conflict_pd['took_part_in_the_hostilities'].unique()"
   ]
  },
  {
   "cell_type": "code",
   "execution_count": 67,
   "metadata": {},
   "outputs": [],
   "source": [
    "israeli_yes=conflict_pd[(conflict_pd['citizenship']=='Israeli') & \n",
    "            (conflict_pd['took_part_in_the_hostilities']=='Yes')].shape[0]"
   ]
  },
  {
   "cell_type": "code",
   "execution_count": 68,
   "metadata": {},
   "outputs": [],
   "source": [
    "israeli_no=conflict_pd[(conflict_pd['citizenship']=='Israeli') & \n",
    "            (conflict_pd['took_part_in_the_hostilities']=='No')].shape[0]"
   ]
  },
  {
   "cell_type": "code",
   "execution_count": 69,
   "metadata": {},
   "outputs": [],
   "source": [
    "israeli_Israelis=conflict_pd[(conflict_pd['citizenship']=='Israeli') & \n",
    "            (conflict_pd['took_part_in_the_hostilities']=='Israelis')].shape[0]"
   ]
  },
  {
   "cell_type": "code",
   "execution_count": 70,
   "metadata": {},
   "outputs": [],
   "source": [
    "israeli_unknown=conflict_pd[(conflict_pd['citizenship']=='Israeli') & \n",
    "            (conflict_pd['took_part_in_the_hostilities']=='Unknown')].shape[0]"
   ]
  },
  {
   "cell_type": "code",
   "execution_count": 71,
   "metadata": {},
   "outputs": [],
   "source": [
    "israeli_targeted=conflict_pd[(conflict_pd['citizenship']=='Israeli') & \n",
    "            (conflict_pd['took_part_in_the_hostilities']=='Object of targeted killing')].shape[0]"
   ]
  },
  {
   "cell_type": "code",
   "execution_count": 72,
   "metadata": {},
   "outputs": [
    {
     "name": "stdout",
     "output_type": "stream",
     "text": [
      "1\n",
      "0\n",
      "771\n",
      "0\n",
      "0\n"
     ]
    }
   ],
   "source": [
    "print(israeli_yes)\n",
    "print(israeli_no)\n",
    "print(israeli_Israelis)\n",
    "print(israeli_unknown)\n",
    "print(israeli_targeted)"
   ]
  },
  {
   "cell_type": "code",
   "execution_count": 73,
   "metadata": {},
   "outputs": [],
   "source": [
    "palestinian_yes=conflict_pd[(conflict_pd['citizenship']=='Palestinian') & \n",
    "            (conflict_pd['took_part_in_the_hostilities']=='Yes')].shape[0]\n",
    "palestinian_no=conflict_pd[(conflict_pd['citizenship']=='Palestinian') & \n",
    "            (conflict_pd['took_part_in_the_hostilities']=='No')].shape[0]\n",
    "palestinian_Israelis=conflict_pd[(conflict_pd['citizenship']=='Palestinian') & \n",
    "            (conflict_pd['took_part_in_the_hostilities']=='Israelis')].shape[0]\n",
    "palestinian_unknown=conflict_pd[(conflict_pd['citizenship']=='Palestinian') & \n",
    "            (conflict_pd['took_part_in_the_hostilities']=='Unknown')].shape[0]\n",
    "palestinian_targeted=conflict_pd[(conflict_pd['citizenship']=='Palestinian') & \n",
    "            (conflict_pd['took_part_in_the_hostilities']=='Object of targeted killing')].shape[0]"
   ]
  },
  {
   "cell_type": "code",
   "execution_count": 74,
   "metadata": {},
   "outputs": [
    {
     "name": "stdout",
     "output_type": "stream",
     "text": [
      "3466\n",
      "4652\n",
      "0\n",
      "603\n",
      "200\n"
     ]
    }
   ],
   "source": [
    "print(palestinian_yes)\n",
    "print(palestinian_no)\n",
    "print(palestinian_Israelis)\n",
    "print(palestinian_unknown)\n",
    "print(palestinian_targeted)"
   ]
  },
  {
   "cell_type": "code",
   "execution_count": 75,
   "metadata": {},
   "outputs": [],
   "source": [
    "hostilities=pd.DataFrame({\n",
    "            'Nationality':['Palestinian','Palestinian','Palestinian','Palestinian','Palestinian'\n",
    "                          , 'Israeli','Israeli','Israeli','Israeli','Israeli'],\n",
    "            'Participation':['Yes','No','Israelis','Unknown','Object of Targeted Killing',\n",
    "                            'Yes','No','Israelis','Unknown','Object of Targeted Killing'],\n",
    "            'Count':[3466,4652,0,603,200,1,0,771,0,0]\n",
    "}    \n",
    ")"
   ]
  },
  {
   "cell_type": "code",
   "execution_count": 76,
   "metadata": {
    "scrolled": true
   },
   "outputs": [
    {
     "name": "stderr",
     "output_type": "stream",
     "text": [
      "C:\\Users\\reyje\\anaconda3\\Lib\\site-packages\\seaborn\\_oldcore.py:1498: FutureWarning: is_categorical_dtype is deprecated and will be removed in a future version. Use isinstance(dtype, CategoricalDtype) instead\n",
      "  if pd.api.types.is_categorical_dtype(vector):\n",
      "C:\\Users\\reyje\\anaconda3\\Lib\\site-packages\\seaborn\\_oldcore.py:1498: FutureWarning: is_categorical_dtype is deprecated and will be removed in a future version. Use isinstance(dtype, CategoricalDtype) instead\n",
      "  if pd.api.types.is_categorical_dtype(vector):\n",
      "C:\\Users\\reyje\\anaconda3\\Lib\\site-packages\\seaborn\\_oldcore.py:1498: FutureWarning: is_categorical_dtype is deprecated and will be removed in a future version. Use isinstance(dtype, CategoricalDtype) instead\n",
      "  if pd.api.types.is_categorical_dtype(vector):\n",
      "C:\\Users\\reyje\\anaconda3\\Lib\\site-packages\\seaborn\\_oldcore.py:1498: FutureWarning: is_categorical_dtype is deprecated and will be removed in a future version. Use isinstance(dtype, CategoricalDtype) instead\n",
      "  if pd.api.types.is_categorical_dtype(vector):\n"
     ]
    },
    {
     "data": {
      "text/plain": [
       "Text(0.5, 1.0, 'Participation to the Violence by the Victims')"
      ]
     },
     "execution_count": 76,
     "metadata": {},
     "output_type": "execute_result"
    },
    {
     "data": {
      "image/png": "[encoded data removed]",
      "text/plain": [
       "<Figure size 640x480 with 1 Axes>"
      ]
     },
     "metadata": {},
     "output_type": "display_data"
    }
   ],
   "source": [
    "sns.set(style=\"whitegrid\")\n",
    "g = sns.barplot(hostilities, x=\"Nationality\",y=\"Count\", hue=\"Participation\")\n",
    "plt.title(\"Participation to the Violence by the Victims\")"
   ]
  },
  {
   "cell_type": "markdown",
   "metadata": {},
   "source": [
    "The participation of Israelis to the violence cannot be categorized because Israel is a state and the decisions of the state most likely reflects the stances of the majority of its own population. More research is needed to determine about the percent of Israelis supporting attacks/retaliation on Palestines. This is likely represented by polls. The Israeli state has an organized military so most of their deaths may come from the military.\n",
    "\n",
    "Palestinians are stateless, meaning if acts of violence will be done by them, it would be from certain individuals or groups that does not likely represent the will of the entire population. Notice also that the number of victims who did not participate in the violence is higher than those who did. There are even a few who are object of targeted killings.\n",
    "\n",
    "This suggests about the indiscriminate nature of the violence and this data should guide nations of great power and repute about what needs to be done."
   ]
  },
  {
   "cell_type": "code",
   "execution_count": 77,
   "metadata": {
    "scrolled": false
   },
   "outputs": [
    {
     "data": {
      "image/png": "[encoded data removed]",
      "text/plain": [
       "<Figure size 1200x600 with 2 Axes>"
      ]
     },
     "metadata": {},
     "output_type": "display_data"
    }
   ],
   "source": [
    "israeli_data = conflict_pd[conflict_pd['citizenship'] == 'Israeli']\n",
    "palestinian_data = conflict_pd[conflict_pd['citizenship'] == 'Palestinian']\n",
    "\n",
    "# Create two separate subplots for the histograms\n",
    "fig, (ax1, ax2) = plt.subplots(1, 2, figsize=(12, 6))\n",
    "\n",
    "# Create a histogram for Israeli citizens\n",
    "ax1.hist(israeli_data['age'], bins=20, edgecolor='k')\n",
    "ax1.set_title('Israeli Deaths distribution by Age')\n",
    "ax1.set_xlabel('Age')\n",
    "ax1.set_ylabel('Frequency')\n",
    "\n",
    "# Create a histogram for Palestinian citizens\n",
    "ax2.hist(palestinian_data['age'], bins=20, edgecolor='k')\n",
    "ax2.set_title('Palestinian Citizens distribution by Age')\n",
    "ax2.set_xlabel('Age')\n",
    "ax2.set_ylabel('Frequency')\n",
    "\n",
    "# Show the histograms\n",
    "plt.tight_layout()\n",
    "plt.show()"
   ]
  },
  {
   "cell_type": "markdown",
   "metadata": {},
   "source": [
    "Most deaths in each nationality peaks at around 20 years old. There are markedly more adult (>=25yrs old) deaths in the Israeli population in its own histogram as compared to the adult deaths in the Palestinian population in its own distribution.\n",
    "\n",
    "This gives the impression that the death percentage of younger Palestinian is higher than the death percentage of younger Israelis."
   ]
  },
  {
   "cell_type": "markdown",
   "metadata": {},
   "source": [
    "Here is the code needed to find the count of each type of injury for Israelis and Palestinians."
   ]
  },
  {
   "cell_type": "code",
   "execution_count": 193,
   "metadata": {
    "scrolled": false
   },
   "outputs": [
    {
     "name": "stderr",
     "output_type": "stream",
     "text": [
      "C:\\Users\\reyje\\AppData\\Local\\Temp\\ipykernel_28816\\4242036448.py:5: SettingWithCopyWarning: \n",
      "A value is trying to be set on a copy of a slice from a DataFrame\n",
      "\n",
      "See the caveats in the documentation: https://pandas.pydata.org/pandas-docs/stable/user_guide/indexing.html#returning-a-view-versus-a-copy\n",
      "  israeli_data['type_of_injury'].fillna('Data Not Available',inplace=True)\n",
      "C:\\Users\\reyje\\AppData\\Local\\Temp\\ipykernel_28816\\4242036448.py:6: SettingWithCopyWarning: \n",
      "A value is trying to be set on a copy of a slice from a DataFrame\n",
      "\n",
      "See the caveats in the documentation: https://pandas.pydata.org/pandas-docs/stable/user_guide/indexing.html#returning-a-view-versus-a-copy\n",
      "  israeli_data['type_of_injury'].replace(\"physical assault\",'physically assaulted',inplace=True)\n",
      "C:\\Users\\reyje\\AppData\\Local\\Temp\\ipykernel_28816\\4242036448.py:7: SettingWithCopyWarning: \n",
      "A value is trying to be set on a copy of a slice from a DataFrame\n",
      "\n",
      "See the caveats in the documentation: https://pandas.pydata.org/pandas-docs/stable/user_guide/indexing.html#returning-a-view-versus-a-copy\n",
      "  palestinian_data['type_of_injury'].fillna('Data Not Available',inplace=True)\n",
      "C:\\Users\\reyje\\AppData\\Local\\Temp\\ipykernel_28816\\4242036448.py:57: UserWarning: FixedFormatter should only be used together with FixedLocator\n",
      "  ax3.set_xticklabels(categories_israel, rotation=90)\n",
      "C:\\Users\\reyje\\AppData\\Local\\Temp\\ipykernel_28816\\4242036448.py:58: UserWarning: FixedFormatter should only be used together with FixedLocator\n",
      "  ax4.set_xticklabels(categories_palestinian, rotation=90)\n"
     ]
    },
    {
     "data": {
      "image/png": "[encoded data removed]",
      "text/plain": [
       "<Figure size 700x1200 with 2 Axes>"
      ]
     },
     "metadata": {},
     "output_type": "display_data"
    }
   ],
   "source": [
    "#Separate the conflict_pd data frame by citizenship\n",
    "israeli_data = conflict_pd[conflict_pd['citizenship'] == 'Israeli']\n",
    "palestinian_data = conflict_pd[conflict_pd['citizenship'] == 'Palestinian']\n",
    "\n",
    "#Clean Data a bit\n",
    "#1) If blanks is present on the type of injury, it is replaced with data not available.\n",
    "#inplace=True means that the original data frame is replaced.\n",
    "israeli_data['type_of_injury'].fillna('Data Not Available',inplace=True)\n",
    "\n",
    "#2) Physical assault and physically assaulted are the same so it should be grouped \n",
    "#under physically assaulted\n",
    "israeli_data['type_of_injury'].replace(\"physical assault\",'physically assaulted',inplace=True)\n",
    "palestinian_data['type_of_injury'].fillna('Data Not Available',inplace=True)\n",
    "#Count the type of injury for each type of citizen\n",
    "#This creates a dictionary where the count of each type of injury are the values.\n",
    "israeli_data_injury_count = Counter(israeli_data['type_of_injury'])\n",
    "palestinian_data_injury_count = Counter(palestinian_data['type_of_injury'])\n",
    "\n",
    "#Take the count of each injury for sorting\n",
    "values_injury_israel = list(israeli_data_injury_count.values())\n",
    "values_injury_palestinian = list(palestinian_data_injury_count.values())\n",
    "\n",
    "#Take the count of each injury for sorting\n",
    "values_injury_israel = sorted(values_injury_israel, reverse=True)\n",
    "values_injury_palestinian = sorted(values_injury_palestinian, reverse=True)\n",
    "\n",
    "#Create a new dictionary with the sorted values in descending order.\n",
    "sorted_israeli_data_injury_count = {key: value for key, value in \n",
    "                                    sorted( israeli_data_injury_count.items(), key=lambda item: item[1],\n",
    "                                          reverse=True)}\n",
    "\"\"\"\n",
    "The value in this case is from the key=lambda item: item[1], which corresponds to the counts\n",
    "of each injury on the list of tuples in israeli_data_injury_count.items()\n",
    "\"\"\"\n",
    "sorted_palestinian_data_injury_count = {key: value for key, value in \n",
    "                                    sorted(palestinian_data_injury_count.items(), key=lambda item: item[1],\n",
    "                                          reverse=True)}\n",
    "\n",
    "#Separate to category and count\n",
    "categories_israel = list(sorted_israeli_data_injury_count.keys())\n",
    "categories_israel = ['Data Not Available' if pd.isna(category) else category for category in categories_israel]\n",
    "counts_israel = list(sorted_israeli_data_injury_count.values())\n",
    "\n",
    "categories_palestinian = list(sorted_palestinian_data_injury_count.keys())\n",
    "categories_palestinian = ['Data Not Available' if pd.isna(category) else category for category in categories_palestinian]\n",
    "counts_palestinian = list(sorted_palestinian_data_injury_count.values())\n",
    "\n",
    "# Create two separate subplots for the bar charts\n",
    "fig, (ax3, ax4) = plt.subplots(2, 1, figsize=(7, 12))\n",
    "\n",
    "# Create a histogram for Israeli citizens\n",
    "ax3.bar(categories_israel,counts_israel)\n",
    "ax3.set_xlabel('Type of Injury')\n",
    "ax3.set_ylabel('Count')\n",
    "ax3.set_title('Type of Injuries on Israeli Victims')\n",
    "\n",
    "# Create a histogram for Palestinian citizens\n",
    "ax4.bar(categories_palestinian,counts_palestinian)\n",
    "ax4.set_xlabel('Type of Injury')\n",
    "ax4.set_ylabel('Count')\n",
    "ax4.set_title('Type of Injuries on Palestinian Victims')\n",
    "# Show the histograms\n",
    "\n",
    "ax3.set_xticklabels(categories_israel, rotation=90)\n",
    "ax4.set_xticklabels(categories_palestinian, rotation=90)\n",
    "\n",
    "plt.tight_layout()\n",
    "plt.show()"
   ]
  },
  {
   "cell_type": "markdown",
   "metadata": {},
   "source": [
    "For the Israelis, notice that most injuries come from explosion, gunfire, and stabbing, so aid relief for the future that would prevent death should prepare for these kinds of injuries.\n",
    "\n",
    "For the Palestinians, it is gunfire, and shelling and preparations should be done for the same."
   ]
  },
  {
   "cell_type": "markdown",
   "metadata": {},
   "source": [
    "The code below shows the number of deaths per district, separated by nationality."
   ]
  },
  {
   "cell_type": "code",
   "execution_count": 182,
   "metadata": {
    "scrolled": true
   },
   "outputs": [
    {
     "name": "stderr",
     "output_type": "stream",
     "text": [
      "C:\\Users\\reyje\\AppData\\Local\\Temp\\ipykernel_28816\\3441901721.py:5: SettingWithCopyWarning: \n",
      "A value is trying to be set on a copy of a slice from a DataFrame\n",
      "\n",
      "See the caveats in the documentation: https://pandas.pydata.org/pandas-docs/stable/user_guide/indexing.html#returning-a-view-versus-a-copy\n",
      "  israeli_data['type_of_injury'].fillna('Data Not Available',inplace=True)\n",
      "C:\\Users\\reyje\\AppData\\Local\\Temp\\ipykernel_28816\\3441901721.py:6: SettingWithCopyWarning: \n",
      "A value is trying to be set on a copy of a slice from a DataFrame\n",
      "\n",
      "See the caveats in the documentation: https://pandas.pydata.org/pandas-docs/stable/user_guide/indexing.html#returning-a-view-versus-a-copy\n",
      "  israeli_data['type_of_injury'].replace(\"physical assault\",'physically assaulted',inplace=True)\n",
      "C:\\Users\\reyje\\AppData\\Local\\Temp\\ipykernel_28816\\3441901721.py:7: SettingWithCopyWarning: \n",
      "A value is trying to be set on a copy of a slice from a DataFrame\n",
      "\n",
      "See the caveats in the documentation: https://pandas.pydata.org/pandas-docs/stable/user_guide/indexing.html#returning-a-view-versus-a-copy\n",
      "  palestinian_data['type_of_injury'].fillna('Data Not Available',inplace=True)\n",
      "C:\\Users\\reyje\\AppData\\Local\\Temp\\ipykernel_28816\\3441901721.py:55: UserWarning: FixedFormatter should only be used together with FixedLocator\n",
      "  ax5.set_xticklabels(categories_israel_event_location_district, rotation=90)\n",
      "C:\\Users\\reyje\\AppData\\Local\\Temp\\ipykernel_28816\\3441901721.py:56: UserWarning: FixedFormatter should only be used together with FixedLocator\n",
      "  ax6.set_xticklabels(categories_palestinian_event_location_district, rotation=90)\n"
     ]
    },
    {
     "data": {
      "image/png": "[encoded data removed]",
      "text/plain": [
       "<Figure size 1200x1200 with 2 Axes>"
      ]
     },
     "metadata": {},
     "output_type": "display_data"
    }
   ],
   "source": [
    "israeli_data = conflict_pd[conflict_pd['citizenship'] == 'Israeli']\n",
    "palestinian_data = conflict_pd[conflict_pd['citizenship'] == 'Palestinian']\n",
    "\n",
    "#Count the type of injury for each type of citizen\n",
    "israeli_data_event_location_district_count = Counter(israeli_data['event_location_district'])\n",
    "palestinian_data_event_location_district_count = Counter(palestinian_data['event_location_district'])\n",
    "\n",
    "#Take the count of each injury for sorting\n",
    "values_event_location_district_israel = list(israeli_data_event_location_district_count.values())\n",
    "values_event_location_district_palestinian = list(palestinian_data_event_location_district_count.values())\n",
    "\n",
    "#Take the count of each injury for sorting\n",
    "values_event_location_district_israel = sorted(values_event_location_district_israel, reverse=True)\n",
    "values_event_location_district_palestinian = sorted(values_event_location_district_palestinian, reverse=True)\n",
    "\n",
    "#Create a new dictionary with the sorted values in descending order.\n",
    "sorted_israeli_data_event_location_district_count = {key: value for key, value in \n",
    "                                    sorted( israeli_data_event_location_district_count.items(), key=lambda item: item[1],\n",
    "                                          reverse=True)}\n",
    "\"\"\"\n",
    "The value in this case is from the key=lambda item: item[1], which corresponds to the counts\n",
    "of each injury on the list of tuples in israeli_data_injury_count.items()\n",
    "\"\"\"\n",
    "sorted_palestinian_data_event_location_district_count = {key: value for key, value in \n",
    "                                    sorted(palestinian_data_event_location_district_count.items(), key=lambda item: item[1],\n",
    "                                          reverse=True)}\n",
    "\n",
    "#Separate to category and count\n",
    "categories_israel_event_location_district = list(sorted_israeli_data_event_location_district_count.keys())\n",
    "counts_israel_event_location_district = list(sorted_israeli_data_event_location_district_count.values())\n",
    "\n",
    "categories_palestinian_event_location_district = list(sorted_palestinian_data_event_location_district_count.keys())\n",
    "counts_palestinian_event_location_district = list(sorted_palestinian_data_event_location_district_count.values())\n",
    "\n",
    "# Create two separate subplots for the bar charts\n",
    "fig, (ax5, ax6) = plt.subplots(2, 1, figsize=(12, 12))\n",
    "\n",
    "# Create a histogram for Israeli citizens\n",
    "ax5.bar(categories_israel_event_location_district,counts_israel_event_location_district)\n",
    "ax5.set_xlabel('Event Location District')\n",
    "ax5.set_ylabel('Count')\n",
    "ax5.set_title('Location of Deaths of Israeli Victims')\n",
    "\n",
    "# Create a histogram for Palestinian citizens\n",
    "ax6.bar(categories_palestinian_event_location_district,counts_palestinian_event_location_district)\n",
    "ax6.set_xlabel('Event Location District')\n",
    "ax6.set_ylabel('Count')\n",
    "ax6.set_title('Location of Deaths of Palestinian Victims')\n",
    "# Show the histograms\n",
    "\n",
    "ax5.set_xticklabels(categories_israel_event_location_district, rotation=90)\n",
    "ax6.set_xticklabels(categories_palestinian_event_location_district, rotation=90)\n",
    "\n",
    "plt.tight_layout()\n",
    "plt.show()"
   ]
  },
  {
   "cell_type": "markdown",
   "metadata": {},
   "source": [
    "The above figures should help guide aid relief organizations where to allocate resources."
   ]
  },
  {
   "cell_type": "code",
   "execution_count": 186,
   "metadata": {},
   "outputs": [
    {
     "data": {
      "text/plain": [
       "array(['Karni Checkpoint', 'al-Mughraqa (Abu Midein)', 'Gaza City',\n",
       "       'al-Matahen Abu Holi Border'], dtype=object)"
      ]
     },
     "execution_count": 186,
     "metadata": {},
     "output_type": "execute_result"
    }
   ],
   "source": [
    "israeli_data[israeli_data['event_location_district']=='Gaza']['event_location'].unique()"
   ]
  }
 ],
 "metadata": {
  "kernelspec": {
   "display_name": "Python 3 (ipykernel)",
   "language": "python",
   "name": "python3"
  },
  "language_info": {
   "codemirror_mode": {
    "name": "ipython",
    "version": 3
   },
   "file_extension": ".py",
   "mimetype": "text/x-python",
   "name": "python",
   "nbconvert_exporter": "python",
   "pygments_lexer": "ipython3",
   "version": "3.11.4"
  }
 },
 "nbformat": 4,
 "nbformat_minor": 4
}
